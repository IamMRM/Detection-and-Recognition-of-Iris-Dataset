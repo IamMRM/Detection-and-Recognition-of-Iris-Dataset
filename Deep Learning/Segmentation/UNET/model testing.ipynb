{
 "cells": [
  {
   "cell_type": "code",
   "execution_count": null,
   "metadata": {},
   "outputs": [],
   "source": [
    "import torch\n",
    "from torchvision import transforms, datasets, models\n",
    "import torch.nn as nn"
   ]
  },
  {
   "cell_type": "code",
   "execution_count": null,
   "metadata": {},
   "outputs": [],
   "source": [
    "def crop_img(tensor,target_tensor):\n",
    "    target_size = target_tensor.size()[2]\n",
    "    tensor_size = tensor.size()[2]\n",
    "    delta = tensor_size - target_size\n",
    "    delta = int(delta / 2)\n",
    "    return tensor[:,:,delta:tensor_size-delta,delta:tensor_size-delta]"
   ]
  },
  {
   "cell_type": "code",
   "execution_count": null,
   "metadata": {},
   "outputs": [],
   "source": [
    "def double_conv2D(in_channel,out_channel):\n",
    "    conv= nn.Sequential(\n",
    "        nn.Conv2d(in_channel,out_channel,kernel_size=3),\n",
    "        nn.ReLU(inplace=True),\n",
    "        nn.Conv2d(out_channel,out_channel,kernel_size=3),\n",
    "        nn.ReLU(inplace=True))\n",
    "    return conv"
   ]
  },
  {
   "cell_type": "code",
   "execution_count": null,
   "metadata": {},
   "outputs": [],
   "source": [
    "class Unet(nn.Module):\n",
    "    def __init__(self):\n",
    "        super(Unet,self).__init__()\n",
    "        self.initial_pad = nn.ZeroPad2d(92)\n",
    "        self.conv1= double_conv2D(1,64)      \n",
    "        self.maxpool2D = nn.MaxPool2d(kernel_size=2,stride=2)\n",
    "        self.conv2= double_conv2D(64,128)\n",
    "        self.conv3= double_conv2D(128,256)\n",
    "        self.conv4= double_conv2D(256,512)\n",
    "        self.conv5= double_conv2D(512,1024)\n",
    "        \n",
    "        self.newup_1 = nn.ConvTranspose2d(1024,512,kernel_size=4,stride=2,padding=1)\n",
    "        self.upconv1 = double_conv2D(1024,512)\n",
    "        self.newup_2 = nn.ConvTranspose2d(512,256,kernel_size=4,stride=2,padding=1)\n",
    "        self.upconv2 = double_conv2D(512,256)\n",
    "        self.newup_3 = nn.ConvTranspose2d(256,128,kernel_size=4,stride=2,padding=1)\n",
    "        self.upconv3 = double_conv2D(256,128)\n",
    "        self.newup_4 = nn.ConvTranspose2d(128,64,kernel_size=4,stride=2,padding=1)\n",
    "        self.upconv4 = double_conv2D(128,64)\n",
    "        self.newup_5 = nn.ConvTranspose2d(64,32,kernel_size=4,stride=2,padding=1)\n",
    "        self.upconv5 = double_conv2D(64,32)\n",
    "        \n",
    "        self.out = nn.Conv2d(64,1,kernel_size=1)#change for output channels\n",
    "        \n",
    "    def forward(self,img):\n",
    "        #encorder\n",
    "        x0 = self.initial_pad(img)\n",
    "        x1 = self.conv1(x0)\n",
    "        x2 = self.maxpool2D(x1)\n",
    "        x3 = self.conv2(x2)\n",
    "        x4 = self.maxpool2D(x3)\n",
    "        x5 = self.conv3(x4)\n",
    "        x6 = self.maxpool2D(x5)\n",
    "        x7 = self.conv4(x6)\n",
    "        x8 = self.maxpool2D(x7)\n",
    "        x9 = self.conv5(x8)\n",
    "        \n",
    "        #decorder\n",
    "        x_1 = self.newup_1(x9)\n",
    "        x7 = crop_img(x7,x_1)\n",
    "        x_2 = self.upconv1(torch.cat([x_1,x7], 1))\n",
    "\n",
    "        x_3 = self.newup_2(x_2)\n",
    "        x5 = crop_img(x5,x_3)\n",
    "        x_4 = self.upconv2(torch.cat([x_3,x5], 1))\n",
    "        x_5 = self.newup_3(x_4)\n",
    "        x3 = crop_img(x3,x_5)\n",
    "        x_6 = self.upconv3(torch.cat([x_5,x3], 1))\n",
    "        x_7 = self.newup_4(x_6)\n",
    "        x1 = crop_img(x1,x_7)\n",
    "        x_8 = self.upconv4(torch.cat([x_7,x1], 1))\n",
    "        x = self.out(x_8)\n",
    "        return x"
   ]
  },
  {
   "cell_type": "code",
   "execution_count": null,
   "metadata": {},
   "outputs": [],
   "source": [
    "#for testing\n",
    "img = torch.rand((4,1,212,212))\n",
    "model = Unet()\n",
    "model(img)"
   ]
  },
  {
   "cell_type": "code",
   "execution_count": null,
   "metadata": {},
   "outputs": [],
   "source": [
    "print(model)"
   ]
  },
  {
   "cell_type": "code",
   "execution_count": null,
   "metadata": {},
   "outputs": [],
   "source": [
    "model(img).shape"
   ]
  },
  {
   "cell_type": "code",
   "execution_count": null,
   "metadata": {},
   "outputs": [],
   "source": []
  }
 ],
 "metadata": {
  "kernelspec": {
   "display_name": "Python 3",
   "language": "python",
   "name": "python3"
  },
  "language_info": {
   "codemirror_mode": {
    "name": "ipython",
    "version": 3
   },
   "file_extension": ".py",
   "mimetype": "text/x-python",
   "name": "python",
   "nbconvert_exporter": "python",
   "pygments_lexer": "ipython3",
   "version": "3.6.10"
  }
 },
 "nbformat": 4,
 "nbformat_minor": 4
}
