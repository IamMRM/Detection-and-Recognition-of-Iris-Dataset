{
 "cells": [
  {
   "cell_type": "code",
   "execution_count": 1,
   "metadata": {},
   "outputs": [],
   "source": [
    "import numpy as np\n",
    "import os\n",
    "import matplotlib.pyplot as plt\n",
    "from torch.utils.data import Dataset, DataLoader\n",
    "from torchvision import transforms, datasets, models\n",
    "from collections import defaultdict\n",
    "import torch\n",
    "import torch.nn as nn\n",
    "from collections import defaultdict\n",
    "import torch.nn.functional as F\n",
    "import torch.optim as optim\n",
    "import time\n",
    "import cv2\n",
    "from tqdm import tqdm\n",
    "import copy\n",
    "from torch.nn.modules.distance import PairwiseDistance"
   ]
  },
  {
   "cell_type": "code",
   "execution_count": 2,
   "metadata": {},
   "outputs": [],
   "source": [
    "device = torch.device('cuda' if torch.cuda.is_available() else 'cpu')"
   ]
  },
  {
   "cell_type": "code",
   "execution_count": 3,
   "metadata": {},
   "outputs": [],
   "source": [
    "import datagen\n",
    "def get_dataloader(train_root_dir,\n",
    "                   train_csv_name,\n",
    "                   num_train_triplets, num_valid_triplets,\n",
    "                   batch_size, num_workers):\n",
    "\n",
    "    face_dataset = {'train': datagen.TripletFaceDataset(root_dir=train_root_dir,csv_name=train_csv_name,\n",
    "                                                num_triplets=num_train_triplets,transform=None,train=True),\n",
    "                    'valid': datagen.TripletFaceDataset(root_dir=train_root_dir,csv_name=train_csv_name,\n",
    "                                    num_triplets=num_valid_triplets,transform=None,train=False)}\n",
    "\n",
    "    dataloaders = {x: torch.utils.data.DataLoader(face_dataset[x], batch_size=batch_size, shuffle=True, num_workers=num_workers)\n",
    "        for x in ['train', 'valid']}\n",
    "    \n",
    "    data_size = {x: len(face_dataset[x]) for x in ['train', 'valid']}\n",
    "    return dataloaders, data_size"
   ]
  },
  {
   "cell_type": "code",
   "execution_count": 4,
   "metadata": {},
   "outputs": [],
   "source": [
    "folder_dir = 'dataset/images/'\n",
    "train_csv_name ='file.csv'\n",
    "data_loaders, data_size = get_dataloader(train_root_dir = folder_dir,\n",
    "                                                train_csv_name = train_csv_name,\n",
    "                                                num_train_triplets = 1120, num_valid_triplets = 1120,\n",
    "                                                batch_size = 8,num_workers=0)"
   ]
  },
  {
   "cell_type": "code",
   "execution_count": 5,
   "metadata": {
    "scrolled": true
   },
   "outputs": [],
   "source": [
    "import googlenet\n",
    "model= googlenet.GoogLeNet().to(device)"
   ]
  },
  {
   "cell_type": "code",
   "execution_count": 7,
   "metadata": {
    "scrolled": true
   },
   "outputs": [
    {
     "name": "stdout",
     "output_type": "stream",
     "text": [
      "----------------------------------------------------------------\n",
      "        Layer (type)               Output Shape         Param #\n",
      "================================================================\n",
      "            Conv2d-1         [-1, 64, 112, 112]           9,408\n",
      "            Conv2d-2         [-1, 64, 112, 112]           9,408\n",
      "       BatchNorm2d-3         [-1, 64, 112, 112]             128\n",
      "       BatchNorm2d-4         [-1, 64, 112, 112]             128\n",
      "              ReLU-5         [-1, 64, 112, 112]               0\n",
      "              ReLU-6         [-1, 64, 112, 112]               0\n",
      "         MaxPool2d-7           [-1, 64, 56, 56]               0\n",
      "         MaxPool2d-8           [-1, 64, 56, 56]               0\n",
      "            Conv2d-9           [-1, 64, 56, 56]           4,096\n",
      "           Conv2d-10           [-1, 64, 56, 56]           4,096\n",
      "      BatchNorm2d-11           [-1, 64, 56, 56]             128\n",
      "      BatchNorm2d-12           [-1, 64, 56, 56]             128\n",
      "             ReLU-13           [-1, 64, 56, 56]               0\n",
      "             ReLU-14           [-1, 64, 56, 56]               0\n",
      "           Conv2d-15           [-1, 64, 56, 56]          36,864\n",
      "           Conv2d-16           [-1, 64, 56, 56]          36,864\n",
      "      BatchNorm2d-17           [-1, 64, 56, 56]             128\n",
      "      BatchNorm2d-18           [-1, 64, 56, 56]             128\n",
      "             ReLU-19           [-1, 64, 56, 56]               0\n",
      "             ReLU-20           [-1, 64, 56, 56]               0\n",
      "           Conv2d-21          [-1, 256, 56, 56]          16,384\n",
      "           Conv2d-22          [-1, 256, 56, 56]          16,384\n",
      "      BatchNorm2d-23          [-1, 256, 56, 56]             512\n",
      "      BatchNorm2d-24          [-1, 256, 56, 56]             512\n",
      "           Conv2d-25          [-1, 256, 56, 56]          16,384\n",
      "           Conv2d-26          [-1, 256, 56, 56]          16,384\n",
      "      BatchNorm2d-27          [-1, 256, 56, 56]             512\n",
      "      BatchNorm2d-28          [-1, 256, 56, 56]             512\n",
      "             ReLU-29          [-1, 256, 56, 56]               0\n",
      "             ReLU-30          [-1, 256, 56, 56]               0\n",
      "       Bottleneck-31          [-1, 256, 56, 56]               0\n",
      "       Bottleneck-32          [-1, 256, 56, 56]               0\n",
      "           Conv2d-33           [-1, 64, 56, 56]          16,384\n",
      "           Conv2d-34           [-1, 64, 56, 56]          16,384\n",
      "      BatchNorm2d-35           [-1, 64, 56, 56]             128\n",
      "      BatchNorm2d-36           [-1, 64, 56, 56]             128\n",
      "             ReLU-37           [-1, 64, 56, 56]               0\n",
      "             ReLU-38           [-1, 64, 56, 56]               0\n",
      "           Conv2d-39           [-1, 64, 56, 56]          36,864\n",
      "           Conv2d-40           [-1, 64, 56, 56]          36,864\n",
      "      BatchNorm2d-41           [-1, 64, 56, 56]             128\n",
      "      BatchNorm2d-42           [-1, 64, 56, 56]             128\n",
      "             ReLU-43           [-1, 64, 56, 56]               0\n",
      "             ReLU-44           [-1, 64, 56, 56]               0\n",
      "           Conv2d-45          [-1, 256, 56, 56]          16,384\n",
      "           Conv2d-46          [-1, 256, 56, 56]          16,384\n",
      "      BatchNorm2d-47          [-1, 256, 56, 56]             512\n",
      "      BatchNorm2d-48          [-1, 256, 56, 56]             512\n",
      "             ReLU-49          [-1, 256, 56, 56]               0\n",
      "             ReLU-50          [-1, 256, 56, 56]               0\n",
      "       Bottleneck-51          [-1, 256, 56, 56]               0\n",
      "       Bottleneck-52          [-1, 256, 56, 56]               0\n",
      "           Conv2d-53           [-1, 64, 56, 56]          16,384\n",
      "           Conv2d-54           [-1, 64, 56, 56]          16,384\n",
      "      BatchNorm2d-55           [-1, 64, 56, 56]             128\n",
      "      BatchNorm2d-56           [-1, 64, 56, 56]             128\n",
      "             ReLU-57           [-1, 64, 56, 56]               0\n",
      "             ReLU-58           [-1, 64, 56, 56]               0\n",
      "           Conv2d-59           [-1, 64, 56, 56]          36,864\n",
      "           Conv2d-60           [-1, 64, 56, 56]          36,864\n",
      "      BatchNorm2d-61           [-1, 64, 56, 56]             128\n",
      "      BatchNorm2d-62           [-1, 64, 56, 56]             128\n",
      "             ReLU-63           [-1, 64, 56, 56]               0\n",
      "             ReLU-64           [-1, 64, 56, 56]               0\n",
      "           Conv2d-65          [-1, 256, 56, 56]          16,384\n",
      "           Conv2d-66          [-1, 256, 56, 56]          16,384\n",
      "      BatchNorm2d-67          [-1, 256, 56, 56]             512\n",
      "      BatchNorm2d-68          [-1, 256, 56, 56]             512\n",
      "             ReLU-69          [-1, 256, 56, 56]               0\n",
      "             ReLU-70          [-1, 256, 56, 56]               0\n",
      "       Bottleneck-71          [-1, 256, 56, 56]               0\n",
      "       Bottleneck-72          [-1, 256, 56, 56]               0\n",
      "           Conv2d-73          [-1, 128, 56, 56]          32,768\n",
      "           Conv2d-74          [-1, 128, 56, 56]          32,768\n",
      "      BatchNorm2d-75          [-1, 128, 56, 56]             256\n",
      "      BatchNorm2d-76          [-1, 128, 56, 56]             256\n",
      "             ReLU-77          [-1, 128, 56, 56]               0\n",
      "             ReLU-78          [-1, 128, 56, 56]               0\n",
      "           Conv2d-79          [-1, 128, 28, 28]         147,456\n",
      "           Conv2d-80          [-1, 128, 28, 28]         147,456\n",
      "      BatchNorm2d-81          [-1, 128, 28, 28]             256\n",
      "      BatchNorm2d-82          [-1, 128, 28, 28]             256\n",
      "             ReLU-83          [-1, 128, 28, 28]               0\n",
      "             ReLU-84          [-1, 128, 28, 28]               0\n",
      "           Conv2d-85          [-1, 512, 28, 28]          65,536\n",
      "           Conv2d-86          [-1, 512, 28, 28]          65,536\n",
      "      BatchNorm2d-87          [-1, 512, 28, 28]           1,024\n",
      "      BatchNorm2d-88          [-1, 512, 28, 28]           1,024\n",
      "           Conv2d-89          [-1, 512, 28, 28]         131,072\n",
      "           Conv2d-90          [-1, 512, 28, 28]         131,072\n",
      "      BatchNorm2d-91          [-1, 512, 28, 28]           1,024\n",
      "      BatchNorm2d-92          [-1, 512, 28, 28]           1,024\n",
      "             ReLU-93          [-1, 512, 28, 28]               0\n",
      "             ReLU-94          [-1, 512, 28, 28]               0\n",
      "       Bottleneck-95          [-1, 512, 28, 28]               0\n",
      "       Bottleneck-96          [-1, 512, 28, 28]               0\n",
      "           Conv2d-97          [-1, 128, 28, 28]          65,536\n",
      "           Conv2d-98          [-1, 128, 28, 28]          65,536\n",
      "      BatchNorm2d-99          [-1, 128, 28, 28]             256\n",
      "     BatchNorm2d-100          [-1, 128, 28, 28]             256\n",
      "            ReLU-101          [-1, 128, 28, 28]               0\n",
      "            ReLU-102          [-1, 128, 28, 28]               0\n",
      "          Conv2d-103          [-1, 128, 28, 28]         147,456\n",
      "          Conv2d-104          [-1, 128, 28, 28]         147,456\n",
      "     BatchNorm2d-105          [-1, 128, 28, 28]             256\n",
      "     BatchNorm2d-106          [-1, 128, 28, 28]             256\n",
      "            ReLU-107          [-1, 128, 28, 28]               0\n",
      "            ReLU-108          [-1, 128, 28, 28]               0\n",
      "          Conv2d-109          [-1, 512, 28, 28]          65,536\n",
      "          Conv2d-110          [-1, 512, 28, 28]          65,536\n",
      "     BatchNorm2d-111          [-1, 512, 28, 28]           1,024\n",
      "     BatchNorm2d-112          [-1, 512, 28, 28]           1,024\n",
      "            ReLU-113          [-1, 512, 28, 28]               0\n",
      "            ReLU-114          [-1, 512, 28, 28]               0\n",
      "      Bottleneck-115          [-1, 512, 28, 28]               0\n",
      "      Bottleneck-116          [-1, 512, 28, 28]               0\n",
      "          Conv2d-117          [-1, 128, 28, 28]          65,536\n",
      "          Conv2d-118          [-1, 128, 28, 28]          65,536\n",
      "     BatchNorm2d-119          [-1, 128, 28, 28]             256\n",
      "     BatchNorm2d-120          [-1, 128, 28, 28]             256\n",
      "            ReLU-121          [-1, 128, 28, 28]               0\n",
      "            ReLU-122          [-1, 128, 28, 28]               0\n",
      "          Conv2d-123          [-1, 128, 28, 28]         147,456\n",
      "          Conv2d-124          [-1, 128, 28, 28]         147,456\n",
      "     BatchNorm2d-125          [-1, 128, 28, 28]             256\n",
      "     BatchNorm2d-126          [-1, 128, 28, 28]             256\n",
      "            ReLU-127          [-1, 128, 28, 28]               0\n",
      "            ReLU-128          [-1, 128, 28, 28]               0\n",
      "          Conv2d-129          [-1, 512, 28, 28]          65,536\n",
      "          Conv2d-130          [-1, 512, 28, 28]          65,536\n",
      "     BatchNorm2d-131          [-1, 512, 28, 28]           1,024\n",
      "     BatchNorm2d-132          [-1, 512, 28, 28]           1,024\n",
      "            ReLU-133          [-1, 512, 28, 28]               0\n",
      "            ReLU-134          [-1, 512, 28, 28]               0\n",
      "      Bottleneck-135          [-1, 512, 28, 28]               0\n",
      "      Bottleneck-136          [-1, 512, 28, 28]               0\n",
      "          Conv2d-137          [-1, 128, 28, 28]          65,536\n",
      "          Conv2d-138          [-1, 128, 28, 28]          65,536\n",
      "     BatchNorm2d-139          [-1, 128, 28, 28]             256\n",
      "     BatchNorm2d-140          [-1, 128, 28, 28]             256\n",
      "            ReLU-141          [-1, 128, 28, 28]               0\n",
      "            ReLU-142          [-1, 128, 28, 28]               0\n",
      "          Conv2d-143          [-1, 128, 28, 28]         147,456\n",
      "          Conv2d-144          [-1, 128, 28, 28]         147,456\n",
      "     BatchNorm2d-145          [-1, 128, 28, 28]             256\n",
      "     BatchNorm2d-146          [-1, 128, 28, 28]             256\n",
      "            ReLU-147          [-1, 128, 28, 28]               0\n",
      "            ReLU-148          [-1, 128, 28, 28]               0\n",
      "          Conv2d-149          [-1, 512, 28, 28]          65,536\n",
      "          Conv2d-150          [-1, 512, 28, 28]          65,536\n",
      "     BatchNorm2d-151          [-1, 512, 28, 28]           1,024\n",
      "     BatchNorm2d-152          [-1, 512, 28, 28]           1,024\n",
      "            ReLU-153          [-1, 512, 28, 28]               0\n",
      "            ReLU-154          [-1, 512, 28, 28]               0\n",
      "      Bottleneck-155          [-1, 512, 28, 28]               0\n",
      "      Bottleneck-156          [-1, 512, 28, 28]               0\n",
      "          Conv2d-157          [-1, 256, 28, 28]         131,072\n",
      "          Conv2d-158          [-1, 256, 28, 28]         131,072\n",
      "     BatchNorm2d-159          [-1, 256, 28, 28]             512\n",
      "     BatchNorm2d-160          [-1, 256, 28, 28]             512\n",
      "            ReLU-161          [-1, 256, 28, 28]               0\n",
      "            ReLU-162          [-1, 256, 28, 28]               0\n",
      "          Conv2d-163          [-1, 256, 14, 14]         589,824\n",
      "          Conv2d-164          [-1, 256, 14, 14]         589,824\n",
      "     BatchNorm2d-165          [-1, 256, 14, 14]             512\n",
      "     BatchNorm2d-166          [-1, 256, 14, 14]             512\n",
      "            ReLU-167          [-1, 256, 14, 14]               0\n",
      "            ReLU-168          [-1, 256, 14, 14]               0\n",
      "          Conv2d-169         [-1, 1024, 14, 14]         262,144\n",
      "          Conv2d-170         [-1, 1024, 14, 14]         262,144\n",
      "     BatchNorm2d-171         [-1, 1024, 14, 14]           2,048\n",
      "     BatchNorm2d-172         [-1, 1024, 14, 14]           2,048\n",
      "          Conv2d-173         [-1, 1024, 14, 14]         524,288\n",
      "          Conv2d-174         [-1, 1024, 14, 14]         524,288\n",
      "     BatchNorm2d-175         [-1, 1024, 14, 14]           2,048\n",
      "     BatchNorm2d-176         [-1, 1024, 14, 14]           2,048\n",
      "            ReLU-177         [-1, 1024, 14, 14]               0\n",
      "            ReLU-178         [-1, 1024, 14, 14]               0\n",
      "      Bottleneck-179         [-1, 1024, 14, 14]               0\n",
      "      Bottleneck-180         [-1, 1024, 14, 14]               0\n",
      "          Conv2d-181          [-1, 256, 14, 14]         262,144\n",
      "          Conv2d-182          [-1, 256, 14, 14]         262,144\n",
      "     BatchNorm2d-183          [-1, 256, 14, 14]             512\n",
      "     BatchNorm2d-184          [-1, 256, 14, 14]             512\n",
      "            ReLU-185          [-1, 256, 14, 14]               0\n",
      "            ReLU-186          [-1, 256, 14, 14]               0\n",
      "          Conv2d-187          [-1, 256, 14, 14]         589,824\n",
      "          Conv2d-188          [-1, 256, 14, 14]         589,824\n",
      "     BatchNorm2d-189          [-1, 256, 14, 14]             512\n",
      "     BatchNorm2d-190          [-1, 256, 14, 14]             512\n",
      "            ReLU-191          [-1, 256, 14, 14]               0\n",
      "            ReLU-192          [-1, 256, 14, 14]               0\n",
      "          Conv2d-193         [-1, 1024, 14, 14]         262,144\n",
      "          Conv2d-194         [-1, 1024, 14, 14]         262,144\n",
      "     BatchNorm2d-195         [-1, 1024, 14, 14]           2,048\n",
      "     BatchNorm2d-196         [-1, 1024, 14, 14]           2,048\n",
      "            ReLU-197         [-1, 1024, 14, 14]               0\n",
      "            ReLU-198         [-1, 1024, 14, 14]               0\n",
      "      Bottleneck-199         [-1, 1024, 14, 14]               0\n",
      "      Bottleneck-200         [-1, 1024, 14, 14]               0\n",
      "          Conv2d-201          [-1, 256, 14, 14]         262,144\n",
      "          Conv2d-202          [-1, 256, 14, 14]         262,144\n",
      "     BatchNorm2d-203          [-1, 256, 14, 14]             512\n",
      "     BatchNorm2d-204          [-1, 256, 14, 14]             512\n",
      "            ReLU-205          [-1, 256, 14, 14]               0\n",
      "            ReLU-206          [-1, 256, 14, 14]               0\n",
      "          Conv2d-207          [-1, 256, 14, 14]         589,824\n",
      "          Conv2d-208          [-1, 256, 14, 14]         589,824\n",
      "     BatchNorm2d-209          [-1, 256, 14, 14]             512\n",
      "     BatchNorm2d-210          [-1, 256, 14, 14]             512\n",
      "            ReLU-211          [-1, 256, 14, 14]               0\n",
      "            ReLU-212          [-1, 256, 14, 14]               0\n",
      "          Conv2d-213         [-1, 1024, 14, 14]         262,144\n",
      "          Conv2d-214         [-1, 1024, 14, 14]         262,144\n",
      "     BatchNorm2d-215         [-1, 1024, 14, 14]           2,048\n",
      "     BatchNorm2d-216         [-1, 1024, 14, 14]           2,048\n",
      "            ReLU-217         [-1, 1024, 14, 14]               0\n",
      "            ReLU-218         [-1, 1024, 14, 14]               0\n",
      "      Bottleneck-219         [-1, 1024, 14, 14]               0\n",
      "      Bottleneck-220         [-1, 1024, 14, 14]               0\n",
      "          Conv2d-221          [-1, 256, 14, 14]         262,144\n",
      "          Conv2d-222          [-1, 256, 14, 14]         262,144\n",
      "     BatchNorm2d-223          [-1, 256, 14, 14]             512\n",
      "     BatchNorm2d-224          [-1, 256, 14, 14]             512\n",
      "            ReLU-225          [-1, 256, 14, 14]               0\n",
      "            ReLU-226          [-1, 256, 14, 14]               0\n",
      "          Conv2d-227          [-1, 256, 14, 14]         589,824\n",
      "          Conv2d-228          [-1, 256, 14, 14]         589,824\n",
      "     BatchNorm2d-229          [-1, 256, 14, 14]             512\n",
      "     BatchNorm2d-230          [-1, 256, 14, 14]             512\n",
      "            ReLU-231          [-1, 256, 14, 14]               0\n",
      "            ReLU-232          [-1, 256, 14, 14]               0\n",
      "          Conv2d-233         [-1, 1024, 14, 14]         262,144\n",
      "          Conv2d-234         [-1, 1024, 14, 14]         262,144\n",
      "     BatchNorm2d-235         [-1, 1024, 14, 14]           2,048\n",
      "     BatchNorm2d-236         [-1, 1024, 14, 14]           2,048\n",
      "            ReLU-237         [-1, 1024, 14, 14]               0\n",
      "            ReLU-238         [-1, 1024, 14, 14]               0\n",
      "      Bottleneck-239         [-1, 1024, 14, 14]               0\n",
      "      Bottleneck-240         [-1, 1024, 14, 14]               0\n",
      "          Conv2d-241          [-1, 256, 14, 14]         262,144\n",
      "          Conv2d-242          [-1, 256, 14, 14]         262,144\n",
      "     BatchNorm2d-243          [-1, 256, 14, 14]             512\n",
      "     BatchNorm2d-244          [-1, 256, 14, 14]             512\n",
      "            ReLU-245          [-1, 256, 14, 14]               0\n",
      "            ReLU-246          [-1, 256, 14, 14]               0\n",
      "          Conv2d-247          [-1, 256, 14, 14]         589,824\n",
      "          Conv2d-248          [-1, 256, 14, 14]         589,824\n",
      "     BatchNorm2d-249          [-1, 256, 14, 14]             512\n",
      "     BatchNorm2d-250          [-1, 256, 14, 14]             512\n",
      "            ReLU-251          [-1, 256, 14, 14]               0\n",
      "            ReLU-252          [-1, 256, 14, 14]               0\n",
      "          Conv2d-253         [-1, 1024, 14, 14]         262,144\n",
      "          Conv2d-254         [-1, 1024, 14, 14]         262,144\n",
      "     BatchNorm2d-255         [-1, 1024, 14, 14]           2,048\n",
      "     BatchNorm2d-256         [-1, 1024, 14, 14]           2,048\n",
      "            ReLU-257         [-1, 1024, 14, 14]               0\n",
      "            ReLU-258         [-1, 1024, 14, 14]               0\n",
      "      Bottleneck-259         [-1, 1024, 14, 14]               0\n",
      "      Bottleneck-260         [-1, 1024, 14, 14]               0\n",
      "          Conv2d-261          [-1, 256, 14, 14]         262,144\n",
      "          Conv2d-262          [-1, 256, 14, 14]         262,144\n",
      "     BatchNorm2d-263          [-1, 256, 14, 14]             512\n",
      "     BatchNorm2d-264          [-1, 256, 14, 14]             512\n",
      "            ReLU-265          [-1, 256, 14, 14]               0\n",
      "            ReLU-266          [-1, 256, 14, 14]               0\n",
      "          Conv2d-267          [-1, 256, 14, 14]         589,824\n",
      "          Conv2d-268          [-1, 256, 14, 14]         589,824\n",
      "     BatchNorm2d-269          [-1, 256, 14, 14]             512\n",
      "     BatchNorm2d-270          [-1, 256, 14, 14]             512\n",
      "            ReLU-271          [-1, 256, 14, 14]               0\n",
      "            ReLU-272          [-1, 256, 14, 14]               0\n",
      "          Conv2d-273         [-1, 1024, 14, 14]         262,144\n",
      "          Conv2d-274         [-1, 1024, 14, 14]         262,144\n",
      "     BatchNorm2d-275         [-1, 1024, 14, 14]           2,048\n",
      "     BatchNorm2d-276         [-1, 1024, 14, 14]           2,048\n",
      "            ReLU-277         [-1, 1024, 14, 14]               0\n",
      "            ReLU-278         [-1, 1024, 14, 14]               0\n",
      "      Bottleneck-279         [-1, 1024, 14, 14]               0\n",
      "      Bottleneck-280         [-1, 1024, 14, 14]               0\n",
      "          Conv2d-281          [-1, 512, 14, 14]         524,288\n",
      "          Conv2d-282          [-1, 512, 14, 14]         524,288\n",
      "     BatchNorm2d-283          [-1, 512, 14, 14]           1,024\n",
      "     BatchNorm2d-284          [-1, 512, 14, 14]           1,024\n",
      "            ReLU-285          [-1, 512, 14, 14]               0\n",
      "            ReLU-286          [-1, 512, 14, 14]               0\n",
      "          Conv2d-287            [-1, 512, 7, 7]       2,359,296\n",
      "          Conv2d-288            [-1, 512, 7, 7]       2,359,296\n",
      "     BatchNorm2d-289            [-1, 512, 7, 7]           1,024\n",
      "     BatchNorm2d-290            [-1, 512, 7, 7]           1,024\n",
      "            ReLU-291            [-1, 512, 7, 7]               0\n",
      "            ReLU-292            [-1, 512, 7, 7]               0\n",
      "          Conv2d-293           [-1, 2048, 7, 7]       1,048,576\n",
      "          Conv2d-294           [-1, 2048, 7, 7]       1,048,576\n",
      "     BatchNorm2d-295           [-1, 2048, 7, 7]           4,096\n",
      "     BatchNorm2d-296           [-1, 2048, 7, 7]           4,096\n",
      "          Conv2d-297           [-1, 2048, 7, 7]       2,097,152\n",
      "          Conv2d-298           [-1, 2048, 7, 7]       2,097,152\n",
      "     BatchNorm2d-299           [-1, 2048, 7, 7]           4,096\n",
      "     BatchNorm2d-300           [-1, 2048, 7, 7]           4,096\n",
      "            ReLU-301           [-1, 2048, 7, 7]               0\n",
      "            ReLU-302           [-1, 2048, 7, 7]               0\n",
      "      Bottleneck-303           [-1, 2048, 7, 7]               0\n",
      "      Bottleneck-304           [-1, 2048, 7, 7]               0\n",
      "          Conv2d-305            [-1, 512, 7, 7]       1,048,576\n",
      "          Conv2d-306            [-1, 512, 7, 7]       1,048,576\n",
      "     BatchNorm2d-307            [-1, 512, 7, 7]           1,024\n",
      "     BatchNorm2d-308            [-1, 512, 7, 7]           1,024\n",
      "            ReLU-309            [-1, 512, 7, 7]               0\n",
      "            ReLU-310            [-1, 512, 7, 7]               0\n",
      "          Conv2d-311            [-1, 512, 7, 7]       2,359,296\n",
      "          Conv2d-312            [-1, 512, 7, 7]       2,359,296\n",
      "     BatchNorm2d-313            [-1, 512, 7, 7]           1,024\n",
      "     BatchNorm2d-314            [-1, 512, 7, 7]           1,024\n",
      "            ReLU-315            [-1, 512, 7, 7]               0\n",
      "            ReLU-316            [-1, 512, 7, 7]               0\n",
      "          Conv2d-317           [-1, 2048, 7, 7]       1,048,576\n",
      "          Conv2d-318           [-1, 2048, 7, 7]       1,048,576\n",
      "     BatchNorm2d-319           [-1, 2048, 7, 7]           4,096\n",
      "     BatchNorm2d-320           [-1, 2048, 7, 7]           4,096\n",
      "            ReLU-321           [-1, 2048, 7, 7]               0\n",
      "            ReLU-322           [-1, 2048, 7, 7]               0\n",
      "      Bottleneck-323           [-1, 2048, 7, 7]               0\n",
      "      Bottleneck-324           [-1, 2048, 7, 7]               0\n",
      "          Conv2d-325            [-1, 512, 7, 7]       1,048,576\n",
      "          Conv2d-326            [-1, 512, 7, 7]       1,048,576\n",
      "     BatchNorm2d-327            [-1, 512, 7, 7]           1,024\n",
      "     BatchNorm2d-328            [-1, 512, 7, 7]           1,024\n",
      "            ReLU-329            [-1, 512, 7, 7]               0\n",
      "            ReLU-330            [-1, 512, 7, 7]               0\n",
      "          Conv2d-331            [-1, 512, 7, 7]       2,359,296\n",
      "          Conv2d-332            [-1, 512, 7, 7]       2,359,296\n",
      "     BatchNorm2d-333            [-1, 512, 7, 7]           1,024\n",
      "     BatchNorm2d-334            [-1, 512, 7, 7]           1,024\n",
      "            ReLU-335            [-1, 512, 7, 7]               0\n",
      "            ReLU-336            [-1, 512, 7, 7]               0\n",
      "          Conv2d-337           [-1, 2048, 7, 7]       1,048,576\n",
      "          Conv2d-338           [-1, 2048, 7, 7]       1,048,576\n",
      "     BatchNorm2d-339           [-1, 2048, 7, 7]           4,096\n",
      "     BatchNorm2d-340           [-1, 2048, 7, 7]           4,096\n",
      "            ReLU-341           [-1, 2048, 7, 7]               0\n",
      "            ReLU-342           [-1, 2048, 7, 7]               0\n",
      "      Bottleneck-343           [-1, 2048, 7, 7]               0\n",
      "      Bottleneck-344           [-1, 2048, 7, 7]               0\n",
      "         Flatten-345               [-1, 100352]               0\n",
      "          Linear-346                  [-1, 128]      12,845,184\n",
      "================================================================\n",
      "Total params: 59,861,248\n",
      "Trainable params: 59,861,248\n",
      "Non-trainable params: 0\n",
      "----------------------------------------------------------------\n",
      "Input size (MB): 0.57\n",
      "Forward/backward pass size (MB): 573.84\n",
      "Params size (MB): 228.35\n",
      "Estimated Total Size (MB): 802.76\n",
      "----------------------------------------------------------------\n"
     ]
    }
   ],
   "source": [
    "from torchsummary import summary\n",
    "summary(model,input_size=(3,224,224))"
   ]
  },
  {
   "cell_type": "code",
   "execution_count": 6,
   "metadata": {},
   "outputs": [],
   "source": [
    "learning_rate = 1e-4\n",
    "optimizer = torch.optim.Adam(model.parameters(), lr=learning_rate)\n",
    "num_epochs = 100\n",
    "start = time.time()"
   ]
  },
  {
   "cell_type": "code",
   "execution_count": 7,
   "metadata": {},
   "outputs": [],
   "source": [
    "class TripletLoss(nn.Module):\n",
    "    def __init__(self, margin=1.0):\n",
    "        super(TripletLoss, self).__init__()\n",
    "        self.margin = margin\n",
    "        \n",
    "    def calc_euclidean(self, x1, x2):\n",
    "        return (x1 - x2).pow(2).sum(1)\n",
    "    \n",
    "    def forward(self, anchor: torch.Tensor, positive: torch.Tensor, negative: torch.Tensor) -> torch.Tensor:\n",
    "        distance_positive = self.calc_euclidean(anchor, positive)\n",
    "        distance_negative = self.calc_euclidean(anchor, negative)\n",
    "        losses = torch.relu(distance_positive - distance_negative + self.margin)\n",
    "        return losses.mean()\n",
    "\n",
    "criterion=TripletLoss().to(device)"
   ]
  },
  {
   "cell_type": "code",
   "execution_count": 8,
   "metadata": {},
   "outputs": [],
   "source": [
    "def train(dataloader,epoch):\n",
    "        model.train()\n",
    "        losses=0\n",
    "        for batch_idx, batch_sample in tqdm(enumerate(dataloader)):\n",
    "            model.zero_grad()\n",
    "            anchor_embedding=model(batch_sample[\"anc_img\"].to(torch.float).to(device))\n",
    "            positive_embedding=model(batch_sample[\"pos_img\"].to(torch.float).to(device))\n",
    "            negative_embedding=model(batch_sample[\"neg_img\"].to(torch.float).to(device))\n",
    "            \n",
    "            loss=criterion(anchor_embedding,positive_embedding,negative_embedding)\n",
    "            loss.backward()\n",
    "            optimizer.step()\n",
    "            losses+=loss.item()\n",
    "        epoch_loss=losses/len(dataloader)\n",
    "        return epoch_loss"
   ]
  },
  {
   "cell_type": "code",
   "execution_count": 9,
   "metadata": {},
   "outputs": [],
   "source": [
    "def evaluate(dataloader,epoch):    \n",
    "        model.eval()\n",
    "        val_loss_value=0\n",
    "        with torch.no_grad():\n",
    "            for batch_idx, batch_sample in tqdm(enumerate(dataloader)):\n",
    "                anchor_embedding=model(batch_sample[\"anc_img\"].to(torch.float).to(device))\n",
    "                positive_embedding=model(batch_sample[\"pos_img\"].to(torch.float).to(device))\n",
    "                negative_embedding=model(batch_sample[\"neg_img\"].to(torch.float).to(device))\n",
    "                \n",
    "                loss=criterion(anchor_embedding,positive_embedding,negative_embedding)\n",
    "                val_loss_value+=loss.item()\n",
    "            val_epoch_loss=val_loss_value/len(dataloader)\n",
    "        return val_epoch_loss"
   ]
  },
  {
   "cell_type": "code",
   "execution_count": 10,
   "metadata": {
    "scrolled": true
   },
   "outputs": [
    {
     "name": "stderr",
     "output_type": "stream",
     "text": [
      "140it [01:55,  1.21it/s]\n",
      "0it [00:00, ?it/s]"
     ]
    },
    {
     "name": "stdout",
     "output_type": "stream",
     "text": [
      "TRAINING STEP: 0 LOSS: 0.46346484598304544\n"
     ]
    },
    {
     "name": "stderr",
     "output_type": "stream",
     "text": [
      "140it [01:09,  2.03it/s]\n"
     ]
    },
    {
     "name": "stdout",
     "output_type": "stream",
     "text": [
      "VALIDATING STEP: 0 LOSS: 0.38040834670620305\n",
      "Saving Best Model  0\n"
     ]
    },
    {
     "name": "stderr",
     "output_type": "stream",
     "text": [
      "140it [01:36,  1.45it/s]\n",
      "0it [00:00, ?it/s]"
     ]
    },
    {
     "name": "stdout",
     "output_type": "stream",
     "text": [
      "TRAINING STEP: 1 LOSS: 0.294932561101658\n"
     ]
    },
    {
     "name": "stderr",
     "output_type": "stream",
     "text": [
      "140it [01:06,  2.09it/s]\n"
     ]
    },
    {
     "name": "stdout",
     "output_type": "stream",
     "text": [
      "VALIDATING STEP: 1 LOSS: 0.3089173502687897\n",
      "Saving Best Model  1\n"
     ]
    },
    {
     "name": "stderr",
     "output_type": "stream",
     "text": [
      "140it [01:36,  1.46it/s]\n",
      "0it [00:00, ?it/s]"
     ]
    },
    {
     "name": "stdout",
     "output_type": "stream",
     "text": [
      "TRAINING STEP: 2 LOSS: 0.20714033363120896\n"
     ]
    },
    {
     "name": "stderr",
     "output_type": "stream",
     "text": [
      "140it [01:05,  2.13it/s]\n"
     ]
    },
    {
     "name": "stdout",
     "output_type": "stream",
     "text": [
      "VALIDATING STEP: 2 LOSS: 0.23746271575135844\n",
      "Saving Best Model  2\n"
     ]
    },
    {
     "name": "stderr",
     "output_type": "stream",
     "text": [
      "140it [01:35,  1.46it/s]\n",
      "0it [00:00, ?it/s]"
     ]
    },
    {
     "name": "stdout",
     "output_type": "stream",
     "text": [
      "TRAINING STEP: 3 LOSS: 0.17390003449150493\n"
     ]
    },
    {
     "name": "stderr",
     "output_type": "stream",
     "text": [
      "140it [01:04,  2.16it/s]\n"
     ]
    },
    {
     "name": "stdout",
     "output_type": "stream",
     "text": [
      "VALIDATING STEP: 3 LOSS: 0.18708097423825945\n",
      "Saving Best Model  3\n"
     ]
    },
    {
     "name": "stderr",
     "output_type": "stream",
     "text": [
      "140it [01:35,  1.46it/s]\n",
      "0it [00:00, ?it/s]"
     ]
    },
    {
     "name": "stdout",
     "output_type": "stream",
     "text": [
      "TRAINING STEP: 4 LOSS: 0.13306684573846203\n"
     ]
    },
    {
     "name": "stderr",
     "output_type": "stream",
     "text": [
      "140it [01:05,  2.13it/s]\n"
     ]
    },
    {
     "name": "stdout",
     "output_type": "stream",
     "text": [
      "VALIDATING STEP: 4 LOSS: 0.1562074583555971\n",
      "Saving Best Model  4\n"
     ]
    },
    {
     "name": "stderr",
     "output_type": "stream",
     "text": [
      "140it [01:38,  1.41it/s]\n",
      "0it [00:00, ?it/s]"
     ]
    },
    {
     "name": "stdout",
     "output_type": "stream",
     "text": [
      "TRAINING STEP: 5 LOSS: 0.110269048171384\n"
     ]
    },
    {
     "name": "stderr",
     "output_type": "stream",
     "text": [
      "140it [01:15,  1.85it/s]\n"
     ]
    },
    {
     "name": "stdout",
     "output_type": "stream",
     "text": [
      "VALIDATING STEP: 5 LOSS: 0.1440413040774209\n",
      "Saving Best Model  5\n"
     ]
    },
    {
     "name": "stderr",
     "output_type": "stream",
     "text": [
      "140it [02:00,  1.16it/s]\n",
      "0it [00:00, ?it/s]"
     ]
    },
    {
     "name": "stdout",
     "output_type": "stream",
     "text": [
      "TRAINING STEP: 6 LOSS: 0.09675915353000164\n"
     ]
    },
    {
     "name": "stderr",
     "output_type": "stream",
     "text": [
      "140it [01:22,  1.69it/s]\n",
      "0it [00:00, ?it/s]"
     ]
    },
    {
     "name": "stdout",
     "output_type": "stream",
     "text": [
      "VALIDATING STEP: 6 LOSS: 0.147847113811544\n"
     ]
    },
    {
     "name": "stderr",
     "output_type": "stream",
     "text": [
      "140it [01:55,  1.21it/s]\n",
      "0it [00:00, ?it/s]"
     ]
    },
    {
     "name": "stdout",
     "output_type": "stream",
     "text": [
      "TRAINING STEP: 7 LOSS: 0.08169640100428037\n"
     ]
    },
    {
     "name": "stderr",
     "output_type": "stream",
     "text": [
      "140it [01:24,  1.66it/s]\n"
     ]
    },
    {
     "name": "stdout",
     "output_type": "stream",
     "text": [
      "VALIDATING STEP: 7 LOSS: 0.11814300252922944\n",
      "Saving Best Model  7\n"
     ]
    },
    {
     "name": "stderr",
     "output_type": "stream",
     "text": [
      "140it [17:07,  7.34s/it] \n",
      "0it [00:00, ?it/s]"
     ]
    },
    {
     "name": "stdout",
     "output_type": "stream",
     "text": [
      "TRAINING STEP: 8 LOSS: 0.08054313393575804\n"
     ]
    },
    {
     "name": "stderr",
     "output_type": "stream",
     "text": [
      "140it [00:42,  3.29it/s]\n",
      "0it [00:00, ?it/s]"
     ]
    },
    {
     "name": "stdout",
     "output_type": "stream",
     "text": [
      "VALIDATING STEP: 8 LOSS: 0.1324411241603749\n"
     ]
    },
    {
     "name": "stderr",
     "output_type": "stream",
     "text": [
      "140it [00:40,  3.50it/s]\n",
      "1it [00:00,  6.39it/s]"
     ]
    },
    {
     "name": "stdout",
     "output_type": "stream",
     "text": [
      "TRAINING STEP: 9 LOSS: 0.07023972714585917\n"
     ]
    },
    {
     "name": "stderr",
     "output_type": "stream",
     "text": [
      "140it [00:24,  5.60it/s]\n",
      "0it [00:00, ?it/s]"
     ]
    },
    {
     "name": "stdout",
     "output_type": "stream",
     "text": [
      "VALIDATING STEP: 9 LOSS: 0.11957453851188932\n"
     ]
    },
    {
     "name": "stderr",
     "output_type": "stream",
     "text": [
      "140it [00:33,  4.14it/s]\n",
      "1it [00:00,  5.80it/s]"
     ]
    },
    {
     "name": "stdout",
     "output_type": "stream",
     "text": [
      "TRAINING STEP: 10 LOSS: 0.06624007554990904\n"
     ]
    },
    {
     "name": "stderr",
     "output_type": "stream",
     "text": [
      "140it [00:25,  5.58it/s]\n"
     ]
    },
    {
     "name": "stdout",
     "output_type": "stream",
     "text": [
      "VALIDATING STEP: 10 LOSS: 0.11667529972536224\n",
      "Saving Best Model  10\n"
     ]
    },
    {
     "name": "stderr",
     "output_type": "stream",
     "text": [
      "140it [00:34,  4.10it/s]\n",
      "1it [00:00,  5.63it/s]"
     ]
    },
    {
     "name": "stdout",
     "output_type": "stream",
     "text": [
      "TRAINING STEP: 11 LOSS: 0.054127211815544536\n"
     ]
    },
    {
     "name": "stderr",
     "output_type": "stream",
     "text": [
      "140it [00:24,  5.61it/s]\n",
      "0it [00:00, ?it/s]"
     ]
    },
    {
     "name": "stdout",
     "output_type": "stream",
     "text": [
      "VALIDATING STEP: 11 LOSS: 0.12775852472654411\n"
     ]
    },
    {
     "name": "stderr",
     "output_type": "stream",
     "text": [
      "140it [00:34,  4.10it/s]\n",
      "1it [00:00,  6.00it/s]"
     ]
    },
    {
     "name": "stdout",
     "output_type": "stream",
     "text": [
      "TRAINING STEP: 12 LOSS: 0.052974606465016096\n"
     ]
    },
    {
     "name": "stderr",
     "output_type": "stream",
     "text": [
      "140it [00:26,  5.36it/s]\n",
      "0it [00:00, ?it/s]"
     ]
    },
    {
     "name": "stdout",
     "output_type": "stream",
     "text": [
      "VALIDATING STEP: 12 LOSS: 0.12219357559723514\n"
     ]
    },
    {
     "name": "stderr",
     "output_type": "stream",
     "text": [
      "140it [00:34,  4.11it/s]\n",
      "1it [00:00,  6.00it/s]"
     ]
    },
    {
     "name": "stdout",
     "output_type": "stream",
     "text": [
      "TRAINING STEP: 13 LOSS: 0.04592091920120375\n"
     ]
    },
    {
     "name": "stderr",
     "output_type": "stream",
     "text": [
      "140it [00:24,  5.61it/s]\n",
      "0it [00:00, ?it/s]"
     ]
    },
    {
     "name": "stdout",
     "output_type": "stream",
     "text": [
      "VALIDATING STEP: 13 LOSS: 0.11703041046857834\n"
     ]
    },
    {
     "name": "stderr",
     "output_type": "stream",
     "text": [
      "140it [00:34,  4.04it/s]\n",
      "1it [00:00,  6.04it/s]"
     ]
    },
    {
     "name": "stdout",
     "output_type": "stream",
     "text": [
      "TRAINING STEP: 14 LOSS: 0.04043938373880727\n"
     ]
    },
    {
     "name": "stderr",
     "output_type": "stream",
     "text": [
      "140it [00:25,  5.54it/s]\n"
     ]
    },
    {
     "name": "stdout",
     "output_type": "stream",
     "text": [
      "VALIDATING STEP: 14 LOSS: 0.10113851688802242\n",
      "Saving Best Model  14\n"
     ]
    },
    {
     "name": "stderr",
     "output_type": "stream",
     "text": [
      "140it [00:34,  4.05it/s]\n",
      "1it [00:00,  5.76it/s]"
     ]
    },
    {
     "name": "stdout",
     "output_type": "stream",
     "text": [
      "TRAINING STEP: 15 LOSS: 0.03605994954705238\n"
     ]
    },
    {
     "name": "stderr",
     "output_type": "stream",
     "text": [
      "140it [00:25,  5.46it/s]\n",
      "0it [00:00, ?it/s]"
     ]
    },
    {
     "name": "stdout",
     "output_type": "stream",
     "text": [
      "VALIDATING STEP: 15 LOSS: 0.10515084064432553\n"
     ]
    },
    {
     "name": "stderr",
     "output_type": "stream",
     "text": [
      "140it [00:34,  4.05it/s]\n",
      "1it [00:00,  5.51it/s]"
     ]
    },
    {
     "name": "stdout",
     "output_type": "stream",
     "text": [
      "TRAINING STEP: 16 LOSS: 0.03487269798559802\n"
     ]
    },
    {
     "name": "stderr",
     "output_type": "stream",
     "text": [
      "140it [00:26,  5.37it/s]\n",
      "0it [00:00, ?it/s]"
     ]
    },
    {
     "name": "stdout",
     "output_type": "stream",
     "text": [
      "VALIDATING STEP: 16 LOSS: 0.12216962245958192\n"
     ]
    },
    {
     "name": "stderr",
     "output_type": "stream",
     "text": [
      "140it [00:35,  3.98it/s]\n",
      "1it [00:00,  5.48it/s]"
     ]
    },
    {
     "name": "stdout",
     "output_type": "stream",
     "text": [
      "TRAINING STEP: 17 LOSS: 0.029159608164003918\n"
     ]
    },
    {
     "name": "stderr",
     "output_type": "stream",
     "text": [
      "140it [00:26,  5.36it/s]\n"
     ]
    },
    {
     "name": "stdout",
     "output_type": "stream",
     "text": [
      "VALIDATING STEP: 17 LOSS: 0.10010670168059213\n",
      "Saving Best Model  17\n"
     ]
    },
    {
     "name": "stderr",
     "output_type": "stream",
     "text": [
      "140it [00:35,  3.99it/s]\n",
      "1it [00:00,  5.87it/s]"
     ]
    },
    {
     "name": "stdout",
     "output_type": "stream",
     "text": [
      "TRAINING STEP: 18 LOSS: 0.02220024083341871\n"
     ]
    },
    {
     "name": "stderr",
     "output_type": "stream",
     "text": [
      "140it [00:26,  5.25it/s]\n"
     ]
    },
    {
     "name": "stdout",
     "output_type": "stream",
     "text": [
      "VALIDATING STEP: 18 LOSS: 0.09983431553202016\n",
      "Saving Best Model  18\n"
     ]
    },
    {
     "name": "stderr",
     "output_type": "stream",
     "text": [
      "140it [00:35,  3.98it/s]\n",
      "1it [00:00,  5.83it/s]"
     ]
    },
    {
     "name": "stdout",
     "output_type": "stream",
     "text": [
      "TRAINING STEP: 19 LOSS: 0.02109738141298294\n"
     ]
    },
    {
     "name": "stderr",
     "output_type": "stream",
     "text": [
      "140it [00:26,  5.31it/s]\n",
      "0it [00:00, ?it/s]"
     ]
    },
    {
     "name": "stdout",
     "output_type": "stream",
     "text": [
      "VALIDATING STEP: 19 LOSS: 0.11244832825447831\n"
     ]
    },
    {
     "name": "stderr",
     "output_type": "stream",
     "text": [
      "140it [00:35,  3.99it/s]\n",
      "1it [00:00,  5.83it/s]"
     ]
    },
    {
     "name": "stdout",
     "output_type": "stream",
     "text": [
      "TRAINING STEP: 20 LOSS: 0.023484961901392255\n"
     ]
    },
    {
     "name": "stderr",
     "output_type": "stream",
     "text": [
      "140it [00:26,  5.29it/s]\n",
      "0it [00:00, ?it/s]"
     ]
    },
    {
     "name": "stdout",
     "output_type": "stream",
     "text": [
      "VALIDATING STEP: 20 LOSS: 0.10315045964504992\n"
     ]
    },
    {
     "name": "stderr",
     "output_type": "stream",
     "text": [
      "140it [00:35,  3.99it/s]\n",
      "1it [00:00,  5.66it/s]"
     ]
    },
    {
     "name": "stdout",
     "output_type": "stream",
     "text": [
      "TRAINING STEP: 21 LOSS: 0.01960624988589968\n"
     ]
    },
    {
     "name": "stderr",
     "output_type": "stream",
     "text": [
      "140it [00:26,  5.32it/s]\n",
      "0it [00:00, ?it/s]"
     ]
    },
    {
     "name": "stdout",
     "output_type": "stream",
     "text": [
      "VALIDATING STEP: 21 LOSS: 0.10332950209932668\n"
     ]
    },
    {
     "name": "stderr",
     "output_type": "stream",
     "text": [
      "140it [00:35,  3.95it/s]\n",
      "1it [00:00,  5.70it/s]"
     ]
    },
    {
     "name": "stdout",
     "output_type": "stream",
     "text": [
      "TRAINING STEP: 22 LOSS: 0.014122947145785604\n"
     ]
    },
    {
     "name": "stderr",
     "output_type": "stream",
     "text": [
      "140it [00:26,  5.25it/s]\n",
      "0it [00:00, ?it/s]"
     ]
    },
    {
     "name": "stdout",
     "output_type": "stream",
     "text": [
      "VALIDATING STEP: 22 LOSS: 0.10761455446481705\n"
     ]
    },
    {
     "name": "stderr",
     "output_type": "stream",
     "text": [
      "140it [00:35,  3.98it/s]\n",
      "1it [00:00,  5.97it/s]"
     ]
    },
    {
     "name": "stdout",
     "output_type": "stream",
     "text": [
      "TRAINING STEP: 23 LOSS: 0.014039182077561106\n"
     ]
    },
    {
     "name": "stderr",
     "output_type": "stream",
     "text": [
      "140it [00:26,  5.34it/s]\n"
     ]
    },
    {
     "name": "stdout",
     "output_type": "stream",
     "text": [
      "VALIDATING STEP: 23 LOSS: 0.09480969214013645\n",
      "Saving Best Model  23\n"
     ]
    },
    {
     "name": "stderr",
     "output_type": "stream",
     "text": [
      "140it [00:34,  4.03it/s]\n",
      "1it [00:00,  5.60it/s]"
     ]
    },
    {
     "name": "stdout",
     "output_type": "stream",
     "text": [
      "TRAINING STEP: 24 LOSS: 0.014237624832562037\n"
     ]
    },
    {
     "name": "stderr",
     "output_type": "stream",
     "text": [
      "140it [00:26,  5.34it/s]\n",
      "0it [00:00, ?it/s]"
     ]
    },
    {
     "name": "stdout",
     "output_type": "stream",
     "text": [
      "VALIDATING STEP: 24 LOSS: 0.12820580085473401\n"
     ]
    },
    {
     "name": "stderr",
     "output_type": "stream",
     "text": [
      "140it [00:34,  4.02it/s]\n",
      "1it [00:00,  6.11it/s]"
     ]
    },
    {
     "name": "stdout",
     "output_type": "stream",
     "text": [
      "TRAINING STEP: 25 LOSS: 0.014617397849048887\n"
     ]
    },
    {
     "name": "stderr",
     "output_type": "stream",
     "text": [
      "140it [00:26,  5.38it/s]\n",
      "0it [00:00, ?it/s]"
     ]
    },
    {
     "name": "stdout",
     "output_type": "stream",
     "text": [
      "VALIDATING STEP: 25 LOSS: 0.0989623569484268\n"
     ]
    },
    {
     "name": "stderr",
     "output_type": "stream",
     "text": [
      "140it [00:34,  4.02it/s]\n",
      "1it [00:00,  5.80it/s]"
     ]
    },
    {
     "name": "stdout",
     "output_type": "stream",
     "text": [
      "TRAINING STEP: 26 LOSS: 0.009797593738351549\n"
     ]
    },
    {
     "name": "stderr",
     "output_type": "stream",
     "text": [
      "140it [00:25,  5.41it/s]\n"
     ]
    },
    {
     "name": "stdout",
     "output_type": "stream",
     "text": [
      "VALIDATING STEP: 26 LOSS: 0.0859579867550305\n",
      "Saving Best Model  26\n"
     ]
    },
    {
     "name": "stderr",
     "output_type": "stream",
     "text": [
      "140it [00:35,  4.00it/s]\n",
      "0it [00:00, ?it/s]"
     ]
    },
    {
     "name": "stdout",
     "output_type": "stream",
     "text": [
      "TRAINING STEP: 27 LOSS: 0.005252489979778017\n"
     ]
    },
    {
     "name": "stderr",
     "output_type": "stream",
     "text": [
      "140it [00:26,  5.29it/s]\n",
      "0it [00:00, ?it/s]"
     ]
    },
    {
     "name": "stdout",
     "output_type": "stream",
     "text": [
      "VALIDATING STEP: 27 LOSS: 0.11225484609603882\n"
     ]
    },
    {
     "name": "stderr",
     "output_type": "stream",
     "text": [
      "140it [00:34,  4.00it/s]\n",
      "1it [00:00,  5.66it/s]"
     ]
    },
    {
     "name": "stdout",
     "output_type": "stream",
     "text": [
      "TRAINING STEP: 28 LOSS: 0.008350281098059246\n"
     ]
    },
    {
     "name": "stderr",
     "output_type": "stream",
     "text": [
      "140it [00:25,  5.42it/s]\n",
      "0it [00:00, ?it/s]"
     ]
    },
    {
     "name": "stdout",
     "output_type": "stream",
     "text": [
      "VALIDATING STEP: 28 LOSS: 0.10665709003806115\n"
     ]
    },
    {
     "name": "stderr",
     "output_type": "stream",
     "text": [
      "140it [00:35,  4.00it/s]\n",
      "1it [00:00,  5.57it/s]"
     ]
    },
    {
     "name": "stdout",
     "output_type": "stream",
     "text": [
      "TRAINING STEP: 29 LOSS: 0.00986734532884189\n"
     ]
    },
    {
     "name": "stderr",
     "output_type": "stream",
     "text": [
      "140it [00:26,  5.31it/s]\n",
      "0it [00:00, ?it/s]"
     ]
    },
    {
     "name": "stdout",
     "output_type": "stream",
     "text": [
      "VALIDATING STEP: 29 LOSS: 0.09336030770625386\n"
     ]
    },
    {
     "name": "stderr",
     "output_type": "stream",
     "text": [
      "140it [00:34,  4.01it/s]\n",
      "1it [00:00,  5.51it/s]"
     ]
    },
    {
     "name": "stdout",
     "output_type": "stream",
     "text": [
      "TRAINING STEP: 30 LOSS: 0.014024032865251813\n"
     ]
    },
    {
     "name": "stderr",
     "output_type": "stream",
     "text": [
      "140it [00:26,  5.32it/s]\n",
      "0it [00:00, ?it/s]"
     ]
    },
    {
     "name": "stdout",
     "output_type": "stream",
     "text": [
      "VALIDATING STEP: 30 LOSS: 0.10874368692083018\n"
     ]
    },
    {
     "name": "stderr",
     "output_type": "stream",
     "text": [
      "140it [00:34,  4.01it/s]\n",
      "1it [00:00,  5.86it/s]"
     ]
    },
    {
     "name": "stdout",
     "output_type": "stream",
     "text": [
      "TRAINING STEP: 31 LOSS: 0.011096568831375667\n"
     ]
    },
    {
     "name": "stderr",
     "output_type": "stream",
     "text": [
      "140it [00:26,  5.33it/s]\n",
      "0it [00:00, ?it/s]"
     ]
    },
    {
     "name": "stdout",
     "output_type": "stream",
     "text": [
      "VALIDATING STEP: 31 LOSS: 0.09562059795217855\n"
     ]
    },
    {
     "name": "stderr",
     "output_type": "stream",
     "text": [
      "140it [00:35,  3.98it/s]\n",
      "1it [00:00,  5.51it/s]"
     ]
    },
    {
     "name": "stdout",
     "output_type": "stream",
     "text": [
      "TRAINING STEP: 32 LOSS: 0.007255092316440174\n"
     ]
    },
    {
     "name": "stderr",
     "output_type": "stream",
     "text": [
      "140it [00:26,  5.34it/s]\n",
      "0it [00:00, ?it/s]"
     ]
    },
    {
     "name": "stdout",
     "output_type": "stream",
     "text": [
      "VALIDATING STEP: 32 LOSS: 0.10303411419902529\n"
     ]
    },
    {
     "name": "stderr",
     "output_type": "stream",
     "text": [
      "140it [00:34,  4.03it/s]\n",
      "1it [00:00,  5.93it/s]"
     ]
    },
    {
     "name": "stdout",
     "output_type": "stream",
     "text": [
      "TRAINING STEP: 33 LOSS: 0.006583474629691669\n"
     ]
    },
    {
     "name": "stderr",
     "output_type": "stream",
     "text": [
      "140it [00:26,  5.35it/s]\n",
      "0it [00:00, ?it/s]"
     ]
    },
    {
     "name": "stdout",
     "output_type": "stream",
     "text": [
      "VALIDATING STEP: 33 LOSS: 0.09186266857598509\n"
     ]
    },
    {
     "name": "stderr",
     "output_type": "stream",
     "text": [
      "140it [00:35,  4.00it/s]\n",
      "1it [00:00,  5.63it/s]"
     ]
    },
    {
     "name": "stdout",
     "output_type": "stream",
     "text": [
      "TRAINING STEP: 34 LOSS: 0.006184725250516619\n"
     ]
    },
    {
     "name": "stderr",
     "output_type": "stream",
     "text": [
      "140it [00:26,  5.36it/s]\n",
      "0it [00:00, ?it/s]"
     ]
    },
    {
     "name": "stdout",
     "output_type": "stream",
     "text": [
      "VALIDATING STEP: 34 LOSS: 0.09733771101704665\n"
     ]
    },
    {
     "name": "stderr",
     "output_type": "stream",
     "text": [
      "140it [00:34,  4.01it/s]\n",
      "0it [00:00, ?it/s]"
     ]
    },
    {
     "name": "stdout",
     "output_type": "stream",
     "text": [
      "TRAINING STEP: 35 LOSS: 0.009669655987194607\n"
     ]
    },
    {
     "name": "stderr",
     "output_type": "stream",
     "text": [
      "140it [00:26,  5.36it/s]\n",
      "0it [00:00, ?it/s]"
     ]
    },
    {
     "name": "stdout",
     "output_type": "stream",
     "text": [
      "VALIDATING STEP: 35 LOSS: 0.1079866464648928\n"
     ]
    },
    {
     "name": "stderr",
     "output_type": "stream",
     "text": [
      "140it [00:34,  4.00it/s]\n",
      "1it [00:00,  5.90it/s]"
     ]
    },
    {
     "name": "stdout",
     "output_type": "stream",
     "text": [
      "TRAINING STEP: 36 LOSS: 0.005523483508399554\n"
     ]
    },
    {
     "name": "stderr",
     "output_type": "stream",
     "text": [
      "140it [00:26,  5.35it/s]\n",
      "0it [00:00, ?it/s]"
     ]
    },
    {
     "name": "stdout",
     "output_type": "stream",
     "text": [
      "VALIDATING STEP: 36 LOSS: 0.08834237961896828\n"
     ]
    },
    {
     "name": "stderr",
     "output_type": "stream",
     "text": [
      "140it [00:35,  3.97it/s]\n",
      "1it [00:00,  5.80it/s]"
     ]
    },
    {
     "name": "stdout",
     "output_type": "stream",
     "text": [
      "TRAINING STEP: 37 LOSS: 0.006317277252674103\n"
     ]
    },
    {
     "name": "stderr",
     "output_type": "stream",
     "text": [
      "140it [00:26,  5.34it/s]\n",
      "0it [00:00, ?it/s]"
     ]
    },
    {
     "name": "stdout",
     "output_type": "stream",
     "text": [
      "VALIDATING STEP: 37 LOSS: 0.09670556650630065\n"
     ]
    },
    {
     "name": "stderr",
     "output_type": "stream",
     "text": [
      "140it [00:34,  4.01it/s]\n",
      "0it [00:00, ?it/s]"
     ]
    },
    {
     "name": "stdout",
     "output_type": "stream",
     "text": [
      "TRAINING STEP: 38 LOSS: 0.012097045672791344\n"
     ]
    },
    {
     "name": "stderr",
     "output_type": "stream",
     "text": [
      "140it [00:26,  5.32it/s]\n",
      "0it [00:00, ?it/s]"
     ]
    },
    {
     "name": "stdout",
     "output_type": "stream",
     "text": [
      "VALIDATING STEP: 38 LOSS: 0.09848620013466904\n"
     ]
    },
    {
     "name": "stderr",
     "output_type": "stream",
     "text": [
      "140it [00:34,  4.02it/s]\n",
      "1it [00:00,  6.11it/s]"
     ]
    },
    {
     "name": "stdout",
     "output_type": "stream",
     "text": [
      "TRAINING STEP: 39 LOSS: 0.004179379237549645\n"
     ]
    },
    {
     "name": "stderr",
     "output_type": "stream",
     "text": [
      "140it [00:25,  5.39it/s]\n",
      "0it [00:00, ?it/s]"
     ]
    },
    {
     "name": "stdout",
     "output_type": "stream",
     "text": [
      "VALIDATING STEP: 39 LOSS: 0.09492176372025694\n"
     ]
    },
    {
     "name": "stderr",
     "output_type": "stream",
     "text": [
      "140it [00:34,  4.00it/s]\n",
      "1it [00:00,  6.00it/s]"
     ]
    },
    {
     "name": "stdout",
     "output_type": "stream",
     "text": [
      "TRAINING STEP: 40 LOSS: 0.0035219679453543256\n"
     ]
    },
    {
     "name": "stderr",
     "output_type": "stream",
     "text": [
      "140it [00:26,  5.36it/s]\n",
      "0it [00:00, ?it/s]"
     ]
    },
    {
     "name": "stdout",
     "output_type": "stream",
     "text": [
      "VALIDATING STEP: 40 LOSS: 0.10659781965826239\n"
     ]
    },
    {
     "name": "stderr",
     "output_type": "stream",
     "text": [
      "140it [00:35,  3.99it/s]\n",
      "1it [00:00,  5.60it/s]"
     ]
    },
    {
     "name": "stdout",
     "output_type": "stream",
     "text": [
      "TRAINING STEP: 41 LOSS: 0.00460525814976011\n"
     ]
    },
    {
     "name": "stderr",
     "output_type": "stream",
     "text": [
      "140it [00:26,  5.30it/s]\n",
      "0it [00:00, ?it/s]"
     ]
    },
    {
     "name": "stdout",
     "output_type": "stream",
     "text": [
      "VALIDATING STEP: 41 LOSS: 0.09570940003863403\n"
     ]
    },
    {
     "name": "stderr",
     "output_type": "stream",
     "text": [
      "140it [00:34,  4.01it/s]\n",
      "1it [00:00,  6.08it/s]"
     ]
    },
    {
     "name": "stdout",
     "output_type": "stream",
     "text": [
      "TRAINING STEP: 42 LOSS: 0.004961733466812543\n"
     ]
    },
    {
     "name": "stderr",
     "output_type": "stream",
     "text": [
      "140it [00:26,  5.35it/s]\n",
      "0it [00:00, ?it/s]"
     ]
    },
    {
     "name": "stdout",
     "output_type": "stream",
     "text": [
      "VALIDATING STEP: 42 LOSS: 0.09893420812274728\n"
     ]
    },
    {
     "name": "stderr",
     "output_type": "stream",
     "text": [
      "140it [00:34,  4.01it/s]\n",
      "1it [00:00,  5.70it/s]"
     ]
    },
    {
     "name": "stdout",
     "output_type": "stream",
     "text": [
      "TRAINING STEP: 43 LOSS: 0.003967887429254396\n"
     ]
    },
    {
     "name": "stderr",
     "output_type": "stream",
     "text": [
      "140it [00:26,  5.36it/s]\n",
      "0it [00:00, ?it/s]"
     ]
    },
    {
     "name": "stdout",
     "output_type": "stream",
     "text": [
      "VALIDATING STEP: 43 LOSS: 0.09538233242928981\n"
     ]
    },
    {
     "name": "stderr",
     "output_type": "stream",
     "text": [
      "140it [00:34,  4.01it/s]\n",
      "1it [00:00,  5.51it/s]"
     ]
    },
    {
     "name": "stdout",
     "output_type": "stream",
     "text": [
      "TRAINING STEP: 44 LOSS: 0.00832094768328326\n"
     ]
    },
    {
     "name": "stderr",
     "output_type": "stream",
     "text": [
      "140it [00:26,  5.35it/s]\n",
      "0it [00:00, ?it/s]"
     ]
    },
    {
     "name": "stdout",
     "output_type": "stream",
     "text": [
      "VALIDATING STEP: 44 LOSS: 0.10674624453697885\n"
     ]
    },
    {
     "name": "stderr",
     "output_type": "stream",
     "text": [
      "140it [00:34,  4.00it/s]\n",
      "1it [00:00,  5.60it/s]"
     ]
    },
    {
     "name": "stdout",
     "output_type": "stream",
     "text": [
      "TRAINING STEP: 45 LOSS: 0.0068002589579139435\n"
     ]
    },
    {
     "name": "stderr",
     "output_type": "stream",
     "text": [
      "140it [00:26,  5.33it/s]\n",
      "0it [00:00, ?it/s]"
     ]
    },
    {
     "name": "stdout",
     "output_type": "stream",
     "text": [
      "VALIDATING STEP: 45 LOSS: 0.10697207482797759\n"
     ]
    },
    {
     "name": "stderr",
     "output_type": "stream",
     "text": [
      "140it [00:34,  4.02it/s]\n",
      "1it [00:00,  5.97it/s]"
     ]
    },
    {
     "name": "stdout",
     "output_type": "stream",
     "text": [
      "TRAINING STEP: 46 LOSS: 0.00579047676708017\n"
     ]
    },
    {
     "name": "stderr",
     "output_type": "stream",
     "text": [
      "140it [00:26,  5.37it/s]\n",
      "0it [00:00, ?it/s]"
     ]
    },
    {
     "name": "stdout",
     "output_type": "stream",
     "text": [
      "VALIDATING STEP: 46 LOSS: 0.10329128046120917\n"
     ]
    },
    {
     "name": "stderr",
     "output_type": "stream",
     "text": [
      "140it [00:35,  3.98it/s]\n",
      "1it [00:00,  5.66it/s]"
     ]
    },
    {
     "name": "stdout",
     "output_type": "stream",
     "text": [
      "TRAINING STEP: 47 LOSS: 0.008441119002444403\n"
     ]
    },
    {
     "name": "stderr",
     "output_type": "stream",
     "text": [
      "140it [00:26,  5.25it/s]\n",
      "0it [00:00, ?it/s]"
     ]
    },
    {
     "name": "stdout",
     "output_type": "stream",
     "text": [
      "VALIDATING STEP: 47 LOSS: 0.11199150926300458\n"
     ]
    },
    {
     "name": "stderr",
     "output_type": "stream",
     "text": [
      "140it [00:34,  4.00it/s]\n",
      "1it [00:00,  5.93it/s]"
     ]
    },
    {
     "name": "stdout",
     "output_type": "stream",
     "text": [
      "TRAINING STEP: 48 LOSS: 0.00425713589148862\n"
     ]
    },
    {
     "name": "stderr",
     "output_type": "stream",
     "text": [
      "140it [00:26,  5.33it/s]\n",
      "0it [00:00, ?it/s]"
     ]
    },
    {
     "name": "stdout",
     "output_type": "stream",
     "text": [
      "VALIDATING STEP: 48 LOSS: 0.09523896191801344\n"
     ]
    },
    {
     "name": "stderr",
     "output_type": "stream",
     "text": [
      "140it [00:35,  3.99it/s]\n",
      "1it [00:00,  5.80it/s]"
     ]
    },
    {
     "name": "stdout",
     "output_type": "stream",
     "text": [
      "TRAINING STEP: 49 LOSS: 0.007122901135257312\n"
     ]
    },
    {
     "name": "stderr",
     "output_type": "stream",
     "text": [
      "140it [00:25,  5.38it/s]\n",
      "0it [00:00, ?it/s]"
     ]
    },
    {
     "name": "stdout",
     "output_type": "stream",
     "text": [
      "VALIDATING STEP: 49 LOSS: 0.09654408331428255\n"
     ]
    },
    {
     "name": "stderr",
     "output_type": "stream",
     "text": [
      "140it [00:34,  4.01it/s]\n",
      "1it [00:00,  5.70it/s]"
     ]
    },
    {
     "name": "stdout",
     "output_type": "stream",
     "text": [
      "TRAINING STEP: 50 LOSS: 0.007004311308264732\n"
     ]
    },
    {
     "name": "stderr",
     "output_type": "stream",
     "text": [
      "140it [00:26,  5.35it/s]\n"
     ]
    },
    {
     "name": "stdout",
     "output_type": "stream",
     "text": [
      "VALIDATING STEP: 50 LOSS: 0.08136117421090602\n",
      "Saving Best Model  50\n"
     ]
    },
    {
     "name": "stderr",
     "output_type": "stream",
     "text": [
      "140it [00:35,  3.97it/s]\n",
      "0it [00:00, ?it/s]"
     ]
    },
    {
     "name": "stdout",
     "output_type": "stream",
     "text": [
      "TRAINING STEP: 51 LOSS: 0.0041045169745172775\n"
     ]
    },
    {
     "name": "stderr",
     "output_type": "stream",
     "text": [
      "140it [00:29,  4.67it/s]\n",
      "0it [00:00, ?it/s]"
     ]
    },
    {
     "name": "stdout",
     "output_type": "stream",
     "text": [
      "VALIDATING STEP: 51 LOSS: 0.10623365688536848\n"
     ]
    },
    {
     "name": "stderr",
     "output_type": "stream",
     "text": [
      "140it [00:35,  3.98it/s]\n",
      "1it [00:00,  5.86it/s]"
     ]
    },
    {
     "name": "stdout",
     "output_type": "stream",
     "text": [
      "TRAINING STEP: 52 LOSS: 0.0055665351450443264\n"
     ]
    },
    {
     "name": "stderr",
     "output_type": "stream",
     "text": [
      "140it [00:26,  5.33it/s]\n",
      "0it [00:00, ?it/s]"
     ]
    },
    {
     "name": "stdout",
     "output_type": "stream",
     "text": [
      "VALIDATING STEP: 52 LOSS: 0.09874277013753141\n"
     ]
    },
    {
     "name": "stderr",
     "output_type": "stream",
     "text": [
      "140it [00:35,  3.97it/s]\n",
      "1it [00:00,  6.19it/s]"
     ]
    },
    {
     "name": "stdout",
     "output_type": "stream",
     "text": [
      "TRAINING STEP: 53 LOSS: 0.004744394496083259\n"
     ]
    },
    {
     "name": "stderr",
     "output_type": "stream",
     "text": [
      "140it [00:26,  5.34it/s]\n",
      "0it [00:00, ?it/s]"
     ]
    },
    {
     "name": "stdout",
     "output_type": "stream",
     "text": [
      "VALIDATING STEP: 53 LOSS: 0.09154603869787284\n"
     ]
    },
    {
     "name": "stderr",
     "output_type": "stream",
     "text": [
      "140it [00:35,  3.98it/s]\n",
      "1it [00:00,  6.00it/s]"
     ]
    },
    {
     "name": "stdout",
     "output_type": "stream",
     "text": [
      "TRAINING STEP: 54 LOSS: 0.003479577654174396\n"
     ]
    },
    {
     "name": "stderr",
     "output_type": "stream",
     "text": [
      "140it [00:26,  5.31it/s]\n",
      "0it [00:00, ?it/s]"
     ]
    },
    {
     "name": "stdout",
     "output_type": "stream",
     "text": [
      "VALIDATING STEP: 54 LOSS: 0.09328824393451214\n"
     ]
    },
    {
     "name": "stderr",
     "output_type": "stream",
     "text": [
      "140it [00:34,  4.02it/s]\n",
      "1it [00:00,  6.00it/s]"
     ]
    },
    {
     "name": "stdout",
     "output_type": "stream",
     "text": [
      "TRAINING STEP: 55 LOSS: 0.0034382223550762448\n"
     ]
    },
    {
     "name": "stderr",
     "output_type": "stream",
     "text": [
      "140it [00:26,  5.29it/s]\n",
      "0it [00:00, ?it/s]"
     ]
    },
    {
     "name": "stdout",
     "output_type": "stream",
     "text": [
      "VALIDATING STEP: 55 LOSS: 0.11414251577641282\n"
     ]
    },
    {
     "name": "stderr",
     "output_type": "stream",
     "text": [
      "140it [00:35,  3.99it/s]\n",
      "1it [00:00,  6.00it/s]"
     ]
    },
    {
     "name": "stdout",
     "output_type": "stream",
     "text": [
      "TRAINING STEP: 56 LOSS: 0.0023463575435536247\n"
     ]
    },
    {
     "name": "stderr",
     "output_type": "stream",
     "text": [
      "140it [00:25,  5.42it/s]\n",
      "0it [00:00, ?it/s]"
     ]
    },
    {
     "name": "stdout",
     "output_type": "stream",
     "text": [
      "VALIDATING STEP: 56 LOSS: 0.10719455831817218\n"
     ]
    },
    {
     "name": "stderr",
     "output_type": "stream",
     "text": [
      "140it [00:34,  4.03it/s]\n",
      "1it [00:00,  5.51it/s]"
     ]
    },
    {
     "name": "stdout",
     "output_type": "stream",
     "text": [
      "TRAINING STEP: 57 LOSS: 0.004289905726909638\n"
     ]
    },
    {
     "name": "stderr",
     "output_type": "stream",
     "text": [
      "140it [00:26,  5.32it/s]\n",
      "0it [00:00, ?it/s]"
     ]
    },
    {
     "name": "stdout",
     "output_type": "stream",
     "text": [
      "VALIDATING STEP: 57 LOSS: 0.08463286092238767\n"
     ]
    },
    {
     "name": "stderr",
     "output_type": "stream",
     "text": [
      "140it [00:35,  3.96it/s]\n",
      "1it [00:00,  6.04it/s]"
     ]
    },
    {
     "name": "stdout",
     "output_type": "stream",
     "text": [
      "TRAINING STEP: 58 LOSS: 0.004449757294995444\n"
     ]
    },
    {
     "name": "stderr",
     "output_type": "stream",
     "text": [
      "140it [00:25,  5.39it/s]\n",
      "0it [00:00, ?it/s]"
     ]
    },
    {
     "name": "stdout",
     "output_type": "stream",
     "text": [
      "VALIDATING STEP: 58 LOSS: 0.09204572854297502\n"
     ]
    },
    {
     "name": "stderr",
     "output_type": "stream",
     "text": [
      "140it [00:34,  4.01it/s]\n",
      "1it [00:00,  5.60it/s]"
     ]
    },
    {
     "name": "stdout",
     "output_type": "stream",
     "text": [
      "TRAINING STEP: 59 LOSS: 0.003038151136466435\n"
     ]
    },
    {
     "name": "stderr",
     "output_type": "stream",
     "text": [
      "140it [00:26,  5.38it/s]\n",
      "0it [00:00, ?it/s]"
     ]
    },
    {
     "name": "stdout",
     "output_type": "stream",
     "text": [
      "VALIDATING STEP: 59 LOSS: 0.08985796964594296\n"
     ]
    },
    {
     "name": "stderr",
     "output_type": "stream",
     "text": [
      "140it [00:34,  4.00it/s]\n",
      "1it [00:00,  6.11it/s]"
     ]
    },
    {
     "name": "stdout",
     "output_type": "stream",
     "text": [
      "TRAINING STEP: 60 LOSS: 0.002635822179062026\n"
     ]
    },
    {
     "name": "stderr",
     "output_type": "stream",
     "text": [
      "140it [00:26,  5.32it/s]\n",
      "0it [00:00, ?it/s]"
     ]
    },
    {
     "name": "stdout",
     "output_type": "stream",
     "text": [
      "VALIDATING STEP: 60 LOSS: 0.08540382156414646\n"
     ]
    },
    {
     "name": "stderr",
     "output_type": "stream",
     "text": [
      "140it [00:34,  4.03it/s]\n",
      "1it [00:00,  5.93it/s]"
     ]
    },
    {
     "name": "stdout",
     "output_type": "stream",
     "text": [
      "TRAINING STEP: 61 LOSS: 0.0032544096665722984\n"
     ]
    },
    {
     "name": "stderr",
     "output_type": "stream",
     "text": [
      "140it [00:26,  5.34it/s]\n",
      "0it [00:00, ?it/s]"
     ]
    },
    {
     "name": "stdout",
     "output_type": "stream",
     "text": [
      "VALIDATING STEP: 61 LOSS: 0.11282974279352596\n"
     ]
    },
    {
     "name": "stderr",
     "output_type": "stream",
     "text": [
      "140it [00:34,  4.02it/s]\n",
      "1it [00:00,  6.23it/s]"
     ]
    },
    {
     "name": "stdout",
     "output_type": "stream",
     "text": [
      "TRAINING STEP: 62 LOSS: 0.005574305621641022\n"
     ]
    },
    {
     "name": "stderr",
     "output_type": "stream",
     "text": [
      "140it [00:26,  5.36it/s]\n",
      "0it [00:00, ?it/s]"
     ]
    },
    {
     "name": "stdout",
     "output_type": "stream",
     "text": [
      "VALIDATING STEP: 62 LOSS: 0.09585059024393558\n"
     ]
    },
    {
     "name": "stderr",
     "output_type": "stream",
     "text": [
      "140it [00:35,  3.99it/s]\n",
      "1it [00:00,  6.23it/s]"
     ]
    },
    {
     "name": "stdout",
     "output_type": "stream",
     "text": [
      "TRAINING STEP: 63 LOSS: 0.004035570153168269\n"
     ]
    },
    {
     "name": "stderr",
     "output_type": "stream",
     "text": [
      "140it [00:25,  5.49it/s]\n",
      "0it [00:00, ?it/s]"
     ]
    },
    {
     "name": "stdout",
     "output_type": "stream",
     "text": [
      "VALIDATING STEP: 63 LOSS: 0.09194231682590076\n"
     ]
    },
    {
     "name": "stderr",
     "output_type": "stream",
     "text": [
      "140it [00:34,  4.07it/s]\n",
      "1it [00:00,  6.00it/s]"
     ]
    },
    {
     "name": "stdout",
     "output_type": "stream",
     "text": [
      "TRAINING STEP: 64 LOSS: 0.0027824435383081436\n"
     ]
    },
    {
     "name": "stderr",
     "output_type": "stream",
     "text": [
      "140it [00:25,  5.54it/s]\n",
      "0it [00:00, ?it/s]"
     ]
    },
    {
     "name": "stdout",
     "output_type": "stream",
     "text": [
      "VALIDATING STEP: 64 LOSS: 0.09509385409099715\n"
     ]
    },
    {
     "name": "stderr",
     "output_type": "stream",
     "text": [
      "140it [00:34,  4.06it/s]\n",
      "1it [00:00,  5.90it/s]"
     ]
    },
    {
     "name": "stdout",
     "output_type": "stream",
     "text": [
      "TRAINING STEP: 65 LOSS: 0.00531788133084774\n"
     ]
    },
    {
     "name": "stderr",
     "output_type": "stream",
     "text": [
      "140it [00:25,  5.52it/s]\n",
      "0it [00:00, ?it/s]"
     ]
    },
    {
     "name": "stdout",
     "output_type": "stream",
     "text": [
      "VALIDATING STEP: 65 LOSS: 0.09172553313629968\n"
     ]
    },
    {
     "name": "stderr",
     "output_type": "stream",
     "text": [
      "140it [00:34,  4.07it/s]\n",
      "1it [00:00,  6.11it/s]"
     ]
    },
    {
     "name": "stdout",
     "output_type": "stream",
     "text": [
      "TRAINING STEP: 66 LOSS: 0.0039057322378669465\n"
     ]
    },
    {
     "name": "stderr",
     "output_type": "stream",
     "text": [
      "140it [00:26,  5.30it/s]\n",
      "0it [00:00, ?it/s]"
     ]
    },
    {
     "name": "stdout",
     "output_type": "stream",
     "text": [
      "VALIDATING STEP: 66 LOSS: 0.0860824846795627\n"
     ]
    },
    {
     "name": "stderr",
     "output_type": "stream",
     "text": [
      "140it [00:35,  4.00it/s]\n",
      "0it [00:00, ?it/s]"
     ]
    },
    {
     "name": "stdout",
     "output_type": "stream",
     "text": [
      "TRAINING STEP: 67 LOSS: 0.0021646787545510702\n"
     ]
    },
    {
     "name": "stderr",
     "output_type": "stream",
     "text": [
      "140it [00:26,  5.33it/s]\n",
      "0it [00:00, ?it/s]"
     ]
    },
    {
     "name": "stdout",
     "output_type": "stream",
     "text": [
      "VALIDATING STEP: 67 LOSS: 0.10321295665843146\n"
     ]
    },
    {
     "name": "stderr",
     "output_type": "stream",
     "text": [
      "140it [00:34,  4.12it/s]\n",
      "1it [00:00,  5.83it/s]"
     ]
    },
    {
     "name": "stdout",
     "output_type": "stream",
     "text": [
      "TRAINING STEP: 68 LOSS: 0.003175924505506243\n"
     ]
    },
    {
     "name": "stderr",
     "output_type": "stream",
     "text": [
      "140it [00:25,  5.59it/s]\n",
      "0it [00:00, ?it/s]"
     ]
    },
    {
     "name": "stdout",
     "output_type": "stream",
     "text": [
      "VALIDATING STEP: 68 LOSS: 0.09161359992410456\n"
     ]
    },
    {
     "name": "stderr",
     "output_type": "stream",
     "text": [
      "140it [00:34,  4.11it/s]\n",
      "1it [00:00,  5.70it/s]"
     ]
    },
    {
     "name": "stdout",
     "output_type": "stream",
     "text": [
      "TRAINING STEP: 69 LOSS: 0.0013886917382478713\n"
     ]
    },
    {
     "name": "stderr",
     "output_type": "stream",
     "text": [
      "140it [00:25,  5.59it/s]\n",
      "0it [00:00, ?it/s]"
     ]
    },
    {
     "name": "stdout",
     "output_type": "stream",
     "text": [
      "VALIDATING STEP: 69 LOSS: 0.08839856487299715\n"
     ]
    },
    {
     "name": "stderr",
     "output_type": "stream",
     "text": [
      "140it [00:34,  4.11it/s]\n",
      "1it [00:00,  6.27it/s]"
     ]
    },
    {
     "name": "stdout",
     "output_type": "stream",
     "text": [
      "TRAINING STEP: 70 LOSS: 0.004168612084218434\n"
     ]
    },
    {
     "name": "stderr",
     "output_type": "stream",
     "text": [
      "140it [00:24,  5.60it/s]\n",
      "0it [00:00, ?it/s]"
     ]
    },
    {
     "name": "stdout",
     "output_type": "stream",
     "text": [
      "VALIDATING STEP: 70 LOSS: 0.08880061810570104\n"
     ]
    },
    {
     "name": "stderr",
     "output_type": "stream",
     "text": [
      "140it [00:34,  4.09it/s]\n",
      "1it [00:00,  6.15it/s]"
     ]
    },
    {
     "name": "stdout",
     "output_type": "stream",
     "text": [
      "TRAINING STEP: 71 LOSS: 0.002337158045598439\n"
     ]
    },
    {
     "name": "stderr",
     "output_type": "stream",
     "text": [
      "140it [00:24,  5.64it/s]\n",
      "0it [00:00, ?it/s]"
     ]
    },
    {
     "name": "stdout",
     "output_type": "stream",
     "text": [
      "VALIDATING STEP: 71 LOSS: 0.08810796913291727\n"
     ]
    },
    {
     "name": "stderr",
     "output_type": "stream",
     "text": [
      "140it [00:34,  4.11it/s]\n",
      "1it [00:00,  6.31it/s]"
     ]
    },
    {
     "name": "stdout",
     "output_type": "stream",
     "text": [
      "TRAINING STEP: 72 LOSS: 0.002335226855107716\n"
     ]
    },
    {
     "name": "stderr",
     "output_type": "stream",
     "text": [
      "140it [00:24,  5.63it/s]\n",
      "0it [00:00, ?it/s]"
     ]
    },
    {
     "name": "stdout",
     "output_type": "stream",
     "text": [
      "VALIDATING STEP: 72 LOSS: 0.08643976125333991\n"
     ]
    },
    {
     "name": "stderr",
     "output_type": "stream",
     "text": [
      "140it [00:33,  4.16it/s]\n",
      "1it [00:00,  6.39it/s]"
     ]
    },
    {
     "name": "stdout",
     "output_type": "stream",
     "text": [
      "TRAINING STEP: 73 LOSS: 0.002875331789255142\n"
     ]
    },
    {
     "name": "stderr",
     "output_type": "stream",
     "text": [
      "140it [00:25,  5.55it/s]\n",
      "0it [00:00, ?it/s]"
     ]
    },
    {
     "name": "stdout",
     "output_type": "stream",
     "text": [
      "VALIDATING STEP: 73 LOSS: 0.09747990279325418\n"
     ]
    },
    {
     "name": "stderr",
     "output_type": "stream",
     "text": [
      "140it [00:34,  4.03it/s]\n",
      "1it [00:00,  5.76it/s]"
     ]
    },
    {
     "name": "stdout",
     "output_type": "stream",
     "text": [
      "TRAINING STEP: 74 LOSS: 0.002413160619991166\n"
     ]
    },
    {
     "name": "stderr",
     "output_type": "stream",
     "text": [
      "140it [00:25,  5.51it/s]\n",
      "0it [00:00, ?it/s]"
     ]
    },
    {
     "name": "stdout",
     "output_type": "stream",
     "text": [
      "VALIDATING STEP: 74 LOSS: 0.08841492469821657\n"
     ]
    },
    {
     "name": "stderr",
     "output_type": "stream",
     "text": [
      "140it [00:34,  4.07it/s]\n",
      "1it [00:00,  5.66it/s]"
     ]
    },
    {
     "name": "stdout",
     "output_type": "stream",
     "text": [
      "TRAINING STEP: 75 LOSS: 0.0015603198004620416\n"
     ]
    },
    {
     "name": "stderr",
     "output_type": "stream",
     "text": [
      "140it [00:25,  5.46it/s]\n",
      "0it [00:00, ?it/s]"
     ]
    },
    {
     "name": "stdout",
     "output_type": "stream",
     "text": [
      "VALIDATING STEP: 75 LOSS: 0.08688273594847747\n"
     ]
    },
    {
     "name": "stderr",
     "output_type": "stream",
     "text": [
      "140it [00:34,  4.08it/s]\n",
      "1it [00:00,  6.35it/s]"
     ]
    },
    {
     "name": "stdout",
     "output_type": "stream",
     "text": [
      "TRAINING STEP: 76 LOSS: 0.004943596092717988\n"
     ]
    },
    {
     "name": "stderr",
     "output_type": "stream",
     "text": [
      "140it [00:25,  5.51it/s]\n",
      "0it [00:00, ?it/s]"
     ]
    },
    {
     "name": "stdout",
     "output_type": "stream",
     "text": [
      "VALIDATING STEP: 76 LOSS: 0.09123086641941752\n"
     ]
    },
    {
     "name": "stderr",
     "output_type": "stream",
     "text": [
      "140it [00:34,  4.05it/s]\n",
      "1it [00:00,  5.83it/s]"
     ]
    },
    {
     "name": "stdout",
     "output_type": "stream",
     "text": [
      "TRAINING STEP: 77 LOSS: 0.0037946616964680806\n"
     ]
    },
    {
     "name": "stderr",
     "output_type": "stream",
     "text": [
      "140it [00:25,  5.56it/s]\n",
      "0it [00:00, ?it/s]"
     ]
    },
    {
     "name": "stdout",
     "output_type": "stream",
     "text": [
      "VALIDATING STEP: 77 LOSS: 0.08482696621545724\n"
     ]
    },
    {
     "name": "stderr",
     "output_type": "stream",
     "text": [
      "140it [00:34,  4.05it/s]\n",
      "1it [00:00,  6.19it/s]"
     ]
    },
    {
     "name": "stdout",
     "output_type": "stream",
     "text": [
      "TRAINING STEP: 78 LOSS: 0.001887994898217065\n"
     ]
    },
    {
     "name": "stderr",
     "output_type": "stream",
     "text": [
      "140it [00:26,  5.35it/s]\n",
      "0it [00:00, ?it/s]"
     ]
    },
    {
     "name": "stdout",
     "output_type": "stream",
     "text": [
      "VALIDATING STEP: 78 LOSS: 0.10099431196493762\n"
     ]
    },
    {
     "name": "stderr",
     "output_type": "stream",
     "text": [
      "140it [00:35,  3.92it/s]\n",
      "1it [00:00,  6.00it/s]"
     ]
    },
    {
     "name": "stdout",
     "output_type": "stream",
     "text": [
      "TRAINING STEP: 79 LOSS: 0.0025541735546929494\n"
     ]
    },
    {
     "name": "stderr",
     "output_type": "stream",
     "text": [
      "140it [00:25,  5.50it/s]\n",
      "0it [00:00, ?it/s]"
     ]
    },
    {
     "name": "stdout",
     "output_type": "stream",
     "text": [
      "VALIDATING STEP: 79 LOSS: 0.08836961787726198\n"
     ]
    },
    {
     "name": "stderr",
     "output_type": "stream",
     "text": [
      "140it [00:34,  4.11it/s]\n",
      "1it [00:00,  6.64it/s]"
     ]
    },
    {
     "name": "stdout",
     "output_type": "stream",
     "text": [
      "TRAINING STEP: 80 LOSS: 0.0018991185618298394\n"
     ]
    },
    {
     "name": "stderr",
     "output_type": "stream",
     "text": [
      "140it [00:25,  5.56it/s]\n",
      "0it [00:00, ?it/s]"
     ]
    },
    {
     "name": "stdout",
     "output_type": "stream",
     "text": [
      "VALIDATING STEP: 80 LOSS: 0.12169681441571031\n"
     ]
    },
    {
     "name": "stderr",
     "output_type": "stream",
     "text": [
      "140it [00:34,  4.03it/s]\n",
      "1it [00:00,  5.86it/s]"
     ]
    },
    {
     "name": "stdout",
     "output_type": "stream",
     "text": [
      "TRAINING STEP: 81 LOSS: 0.00366400278040341\n"
     ]
    },
    {
     "name": "stderr",
     "output_type": "stream",
     "text": [
      "140it [00:26,  5.27it/s]\n",
      "0it [00:00, ?it/s]"
     ]
    },
    {
     "name": "stdout",
     "output_type": "stream",
     "text": [
      "VALIDATING STEP: 81 LOSS: 0.09407903663814068\n"
     ]
    },
    {
     "name": "stderr",
     "output_type": "stream",
     "text": [
      "140it [00:34,  4.00it/s]\n",
      "1it [00:00,  5.54it/s]"
     ]
    },
    {
     "name": "stdout",
     "output_type": "stream",
     "text": [
      "TRAINING STEP: 82 LOSS: 0.0013804188796452113\n"
     ]
    },
    {
     "name": "stderr",
     "output_type": "stream",
     "text": [
      "140it [00:26,  5.31it/s]\n",
      "0it [00:00, ?it/s]"
     ]
    },
    {
     "name": "stdout",
     "output_type": "stream",
     "text": [
      "VALIDATING STEP: 82 LOSS: 0.09998633643346173\n"
     ]
    },
    {
     "name": "stderr",
     "output_type": "stream",
     "text": [
      "140it [00:35,  3.97it/s]\n",
      "1it [00:00,  5.70it/s]"
     ]
    },
    {
     "name": "stdout",
     "output_type": "stream",
     "text": [
      "TRAINING STEP: 83 LOSS: 0.002867978545171874\n"
     ]
    },
    {
     "name": "stderr",
     "output_type": "stream",
     "text": [
      "140it [00:26,  5.35it/s]\n",
      "0it [00:00, ?it/s]"
     ]
    },
    {
     "name": "stdout",
     "output_type": "stream",
     "text": [
      "VALIDATING STEP: 83 LOSS: 0.09382204594356673\n"
     ]
    },
    {
     "name": "stderr",
     "output_type": "stream",
     "text": [
      "140it [00:35,  3.98it/s]\n",
      "1it [00:00,  5.97it/s]"
     ]
    },
    {
     "name": "stdout",
     "output_type": "stream",
     "text": [
      "TRAINING STEP: 84 LOSS: 0.005455413992915835\n"
     ]
    },
    {
     "name": "stderr",
     "output_type": "stream",
     "text": [
      "140it [00:26,  5.32it/s]\n",
      "0it [00:00, ?it/s]"
     ]
    },
    {
     "name": "stdout",
     "output_type": "stream",
     "text": [
      "VALIDATING STEP: 84 LOSS: 0.0858890324831009\n"
     ]
    },
    {
     "name": "stderr",
     "output_type": "stream",
     "text": [
      "140it [00:35,  3.99it/s]\n",
      "1it [00:00,  5.57it/s]"
     ]
    },
    {
     "name": "stdout",
     "output_type": "stream",
     "text": [
      "TRAINING STEP: 85 LOSS: 0.001687698917729514\n"
     ]
    },
    {
     "name": "stderr",
     "output_type": "stream",
     "text": [
      "140it [00:26,  5.34it/s]\n",
      "0it [00:00, ?it/s]"
     ]
    },
    {
     "name": "stdout",
     "output_type": "stream",
     "text": [
      "VALIDATING STEP: 85 LOSS: 0.09652688822575978\n"
     ]
    },
    {
     "name": "stderr",
     "output_type": "stream",
     "text": [
      "140it [00:35,  3.97it/s]\n",
      "1it [00:00,  5.66it/s]"
     ]
    },
    {
     "name": "stdout",
     "output_type": "stream",
     "text": [
      "TRAINING STEP: 86 LOSS: 0.0008626018783875874\n"
     ]
    },
    {
     "name": "stderr",
     "output_type": "stream",
     "text": [
      "140it [00:26,  5.27it/s]\n",
      "0it [00:00, ?it/s]"
     ]
    },
    {
     "name": "stdout",
     "output_type": "stream",
     "text": [
      "VALIDATING STEP: 86 LOSS: 0.09773670685078417\n"
     ]
    },
    {
     "name": "stderr",
     "output_type": "stream",
     "text": [
      "140it [00:35,  3.98it/s]\n",
      "1it [00:00,  5.70it/s]"
     ]
    },
    {
     "name": "stdout",
     "output_type": "stream",
     "text": [
      "TRAINING STEP: 87 LOSS: 0.0019248888428722109\n"
     ]
    },
    {
     "name": "stderr",
     "output_type": "stream",
     "text": [
      "140it [00:34,  4.11it/s]\n",
      "0it [00:00, ?it/s]"
     ]
    },
    {
     "name": "stdout",
     "output_type": "stream",
     "text": [
      "VALIDATING STEP: 87 LOSS: 0.10944238789379597\n"
     ]
    },
    {
     "name": "stderr",
     "output_type": "stream",
     "text": [
      "140it [01:36,  1.45it/s]\n",
      "0it [00:00, ?it/s]"
     ]
    },
    {
     "name": "stdout",
     "output_type": "stream",
     "text": [
      "TRAINING STEP: 88 LOSS: 0.0020020646708352225\n"
     ]
    },
    {
     "name": "stderr",
     "output_type": "stream",
     "text": [
      "140it [01:06,  2.11it/s]\n",
      "0it [00:00, ?it/s]"
     ]
    },
    {
     "name": "stdout",
     "output_type": "stream",
     "text": [
      "VALIDATING STEP: 88 LOSS: 0.09763148219457694\n"
     ]
    },
    {
     "name": "stderr",
     "output_type": "stream",
     "text": [
      "140it [00:40,  3.49it/s]\n",
      "1it [00:00,  5.83it/s]"
     ]
    },
    {
     "name": "stdout",
     "output_type": "stream",
     "text": [
      "TRAINING STEP: 89 LOSS: 0.003375113702246121\n"
     ]
    },
    {
     "name": "stderr",
     "output_type": "stream",
     "text": [
      "140it [00:25,  5.59it/s]\n",
      "0it [00:00, ?it/s]"
     ]
    },
    {
     "name": "stdout",
     "output_type": "stream",
     "text": [
      "VALIDATING STEP: 89 LOSS: 0.08272104343133313\n"
     ]
    },
    {
     "name": "stderr",
     "output_type": "stream",
     "text": [
      "140it [00:34,  4.08it/s]\n",
      "1it [00:00,  6.47it/s]"
     ]
    },
    {
     "name": "stdout",
     "output_type": "stream",
     "text": [
      "TRAINING STEP: 90 LOSS: 0.0021084096814904894\n"
     ]
    },
    {
     "name": "stderr",
     "output_type": "stream",
     "text": [
      "140it [00:25,  5.58it/s]\n",
      "0it [00:00, ?it/s]"
     ]
    },
    {
     "name": "stdout",
     "output_type": "stream",
     "text": [
      "VALIDATING STEP: 90 LOSS: 0.08559494933911732\n"
     ]
    },
    {
     "name": "stderr",
     "output_type": "stream",
     "text": [
      "140it [00:34,  4.12it/s]\n",
      "1it [00:00,  6.15it/s]"
     ]
    },
    {
     "name": "stdout",
     "output_type": "stream",
     "text": [
      "TRAINING STEP: 91 LOSS: 0.0007196662149259023\n"
     ]
    },
    {
     "name": "stderr",
     "output_type": "stream",
     "text": [
      "140it [00:25,  5.54it/s]\n",
      "0it [00:00, ?it/s]"
     ]
    },
    {
     "name": "stdout",
     "output_type": "stream",
     "text": [
      "VALIDATING STEP: 91 LOSS: 0.09226169160434178\n"
     ]
    },
    {
     "name": "stderr",
     "output_type": "stream",
     "text": [
      "140it [00:34,  4.10it/s]\n",
      "1it [00:00,  6.04it/s]"
     ]
    },
    {
     "name": "stdout",
     "output_type": "stream",
     "text": [
      "TRAINING STEP: 92 LOSS: 0.0016656361520290374\n"
     ]
    },
    {
     "name": "stderr",
     "output_type": "stream",
     "text": [
      "140it [00:25,  5.57it/s]\n",
      "0it [00:00, ?it/s]"
     ]
    },
    {
     "name": "stdout",
     "output_type": "stream",
     "text": [
      "VALIDATING STEP: 92 LOSS: 0.08799083392534937\n"
     ]
    },
    {
     "name": "stderr",
     "output_type": "stream",
     "text": [
      "140it [00:34,  4.11it/s]\n",
      "1it [00:00,  6.19it/s]"
     ]
    },
    {
     "name": "stdout",
     "output_type": "stream",
     "text": [
      "TRAINING STEP: 93 LOSS: 0.0009846388229301998\n"
     ]
    },
    {
     "name": "stderr",
     "output_type": "stream",
     "text": [
      "140it [00:25,  5.55it/s]\n",
      "0it [00:00, ?it/s]"
     ]
    },
    {
     "name": "stdout",
     "output_type": "stream",
     "text": [
      "VALIDATING STEP: 93 LOSS: 0.08559841779725892\n"
     ]
    },
    {
     "name": "stderr",
     "output_type": "stream",
     "text": [
      "140it [00:34,  4.10it/s]\n",
      "1it [00:00,  5.97it/s]"
     ]
    },
    {
     "name": "stdout",
     "output_type": "stream",
     "text": [
      "TRAINING STEP: 94 LOSS: 0.002220255881547928\n"
     ]
    },
    {
     "name": "stderr",
     "output_type": "stream",
     "text": [
      "140it [00:25,  5.58it/s]\n",
      "0it [00:00, ?it/s]"
     ]
    },
    {
     "name": "stdout",
     "output_type": "stream",
     "text": [
      "VALIDATING STEP: 94 LOSS: 0.09170380362442561\n"
     ]
    },
    {
     "name": "stderr",
     "output_type": "stream",
     "text": [
      "140it [00:34,  4.12it/s]\n",
      "1it [00:00,  5.93it/s]"
     ]
    },
    {
     "name": "stdout",
     "output_type": "stream",
     "text": [
      "TRAINING STEP: 95 LOSS: 0.0033303584371294293\n"
     ]
    },
    {
     "name": "stderr",
     "output_type": "stream",
     "text": [
      "140it [00:24,  5.61it/s]\n",
      "0it [00:00, ?it/s]"
     ]
    },
    {
     "name": "stdout",
     "output_type": "stream",
     "text": [
      "VALIDATING STEP: 95 LOSS: 0.08230319230684212\n"
     ]
    },
    {
     "name": "stderr",
     "output_type": "stream",
     "text": [
      "140it [00:33,  4.13it/s]\n",
      "1it [00:00,  5.93it/s]"
     ]
    },
    {
     "name": "stdout",
     "output_type": "stream",
     "text": [
      "TRAINING STEP: 96 LOSS: 0.0025748287992818017\n"
     ]
    },
    {
     "name": "stderr",
     "output_type": "stream",
     "text": [
      "140it [00:25,  5.53it/s]\n",
      "0it [00:00, ?it/s]"
     ]
    },
    {
     "name": "stdout",
     "output_type": "stream",
     "text": [
      "VALIDATING STEP: 96 LOSS: 0.10527610698980945\n"
     ]
    },
    {
     "name": "stderr",
     "output_type": "stream",
     "text": [
      "140it [00:33,  4.13it/s]\n",
      "1it [00:00,  6.27it/s]"
     ]
    },
    {
     "name": "stdout",
     "output_type": "stream",
     "text": [
      "TRAINING STEP: 97 LOSS: 0.001576796280486243\n"
     ]
    },
    {
     "name": "stderr",
     "output_type": "stream",
     "text": [
      "140it [00:24,  5.66it/s]\n",
      "0it [00:00, ?it/s]"
     ]
    },
    {
     "name": "stdout",
     "output_type": "stream",
     "text": [
      "VALIDATING STEP: 97 LOSS: 0.09870294364435332\n"
     ]
    },
    {
     "name": "stderr",
     "output_type": "stream",
     "text": [
      "140it [00:34,  4.11it/s]\n",
      "1it [00:00,  6.27it/s]"
     ]
    },
    {
     "name": "stdout",
     "output_type": "stream",
     "text": [
      "TRAINING STEP: 98 LOSS: 0.002655930338161332\n"
     ]
    },
    {
     "name": "stderr",
     "output_type": "stream",
     "text": [
      "140it [00:24,  5.61it/s]\n",
      "0it [00:00, ?it/s]"
     ]
    },
    {
     "name": "stdout",
     "output_type": "stream",
     "text": [
      "VALIDATING STEP: 98 LOSS: 0.1000622812126364\n"
     ]
    },
    {
     "name": "stderr",
     "output_type": "stream",
     "text": [
      "140it [00:34,  4.11it/s]\n",
      "1it [00:00,  6.31it/s]"
     ]
    },
    {
     "name": "stdout",
     "output_type": "stream",
     "text": [
      "TRAINING STEP: 99 LOSS: 0.0034844282482351576\n"
     ]
    },
    {
     "name": "stderr",
     "output_type": "stream",
     "text": [
      "140it [00:25,  5.54it/s]"
     ]
    },
    {
     "name": "stdout",
     "output_type": "stream",
     "text": [
      "VALIDATING STEP: 99 LOSS: 0.10246162270861013\n"
     ]
    },
    {
     "name": "stderr",
     "output_type": "stream",
     "text": [
      "\n"
     ]
    }
   ],
   "source": [
    "best_loss=999\n",
    "losses=[]\n",
    "training = []\n",
    "validation = []\n",
    "\n",
    "for epoch in range(num_epochs):\n",
    "        train_loss=train(data_loaders['train'],epoch)\n",
    "        print(f\"TRAINING STEP: {epoch} LOSS: {train_loss}\")\n",
    "        training.append(train_loss)\n",
    "\n",
    "        val_loss=evaluate(data_loaders['valid'],epoch)\n",
    "        print(f\"VALIDATING STEP: {epoch} LOSS: {val_loss}\")\n",
    "        validation.append(val_loss)\n",
    "        \n",
    "        if val_loss<best_loss:\n",
    "            best_loss=val_loss\n",
    "            print(\"Saving Best Model \",epoch)\n",
    "            torch.save(model.state_dict(),os.path.join(\"\",\"best_model.pth\"))"
   ]
  },
  {
   "cell_type": "code",
   "execution_count": 11,
   "metadata": {},
   "outputs": [
    {
     "data": {
      "image/png": "[encoded data removed]",
      "text/plain": [
       "<Figure size 432x288 with 1 Axes>"
      ]
     },
     "metadata": {
      "needs_background": "light"
     },
     "output_type": "display_data"
    }
   ],
   "source": [
    "import matplotlib.pyplot as plt\n",
    "plt.plot(training)\n",
    "plt.xlabel(\"Epochs\")\n",
    "plt.ylabel(\"Training loss\")\n",
    "plt.show()"
   ]
  },
  {
   "cell_type": "code",
   "execution_count": 12,
   "metadata": {},
   "outputs": [
    {
     "data": {
      "image/png": "[encoded data removed]",
      "text/plain": [
       "<Figure size 432x288 with 1 Axes>"
      ]
     },
     "metadata": {
      "needs_background": "light"
     },
     "output_type": "display_data"
    }
   ],
   "source": [
    "import matplotlib.pyplot as plt\n",
    "plt.plot(validation)\n",
    "plt.xlabel(\"Epochs\")\n",
    "plt.ylabel(\"Validation loss\")\n",
    "plt.show()"
   ]
  }
 ],
 "metadata": {
  "kernelspec": {
   "display_name": "Python 3",
   "language": "python",
   "name": "python3"
  },
  "language_info": {
   "codemirror_mode": {
    "name": "ipython",
    "version": 3
   },
   "file_extension": ".py",
   "mimetype": "text/x-python",
   "name": "python",
   "nbconvert_exporter": "python",
   "pygments_lexer": "ipython3",
   "version": "3.6.10"
  }
 },
 "nbformat": 4,
 "nbformat_minor": 4
}
